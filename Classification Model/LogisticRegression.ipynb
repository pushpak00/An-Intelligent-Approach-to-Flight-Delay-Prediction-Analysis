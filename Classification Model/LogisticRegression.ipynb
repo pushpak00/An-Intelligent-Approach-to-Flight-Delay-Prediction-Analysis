{
  "nbformat": 4,
  "nbformat_minor": 0,
  "metadata": {
    "colab": {
      "provenance": []
    },
    "kernelspec": {
      "name": "python3",
      "display_name": "Python 3"
    },
    "language_info": {
      "name": "python"
    },
    "accelerator": "GPU",
    "gpuClass": "standard"
  },
  "cells": [
    {
      "cell_type": "code",
      "execution_count": 3,
      "metadata": {
        "colab": {
          "base_uri": "https://localhost:8080/"
        },
        "id": "PKoKOXMy4BVr",
        "outputId": "e5e4d582-2c32-4222-9294-62d33490a2da"
      },
      "outputs": [
        {
          "output_type": "stream",
          "name": "stdout",
          "text": [
            "Drive already mounted at /content/drive; to attempt to forcibly remount, call drive.mount(\"/content/drive\", force_remount=True).\n",
            "Drive already mounted at /content/drive; to attempt to forcibly remount, call drive.mount(\"/content/drive\", force_remount=True).\n"
          ]
        }
      ],
      "source": [
        "from google.colab import drive\n",
        "drive.mount('/content/drive')"
      ]
    },
    {
      "cell_type": "code",
      "source": [
        "!pip install pyspark"
      ],
      "metadata": {
        "colab": {
          "base_uri": "https://localhost:8080/"
        },
        "id": "2a1HkJiUetyA",
        "outputId": "1fdf40f5-3a80-46f4-a3a0-e57fbb1da36d"
      },
      "execution_count": 4,
      "outputs": [
        {
          "output_type": "stream",
          "name": "stdout",
          "text": [
            "Looking in indexes: https://pypi.org/simple, https://us-python.pkg.dev/colab-wheels/public/simple/\n",
            "Collecting pyspark\n",
            "  Downloading pyspark-3.3.2.tar.gz (281.4 MB)\n",
            "\u001b[2K     \u001b[90m━━━━━━━━━━━━━━━━━━━━━━━━━━━━━━━━━━━━━━━\u001b[0m \u001b[32m281.4/281.4 MB\u001b[0m \u001b[31m5.7 MB/s\u001b[0m eta \u001b[36m0:00:00\u001b[0m\n",
            "\u001b[?25h  Preparing metadata (setup.py) ... \u001b[?25l\u001b[?25hdone\n",
            "Collecting py4j==0.10.9.5\n",
            "  Downloading py4j-0.10.9.5-py2.py3-none-any.whl (199 kB)\n",
            "\u001b[2K     \u001b[90m━━━━━━━━━━━━━━━━━━━━━━━━━━━━━━━━━━━━━━\u001b[0m \u001b[32m199.7/199.7 KB\u001b[0m \u001b[31m23.4 MB/s\u001b[0m eta \u001b[36m0:00:00\u001b[0m\n",
            "\u001b[?25hBuilding wheels for collected packages: pyspark\n",
            "  Building wheel for pyspark (setup.py) ... \u001b[?25l\u001b[?25hdone\n",
            "  Created wheel for pyspark: filename=pyspark-3.3.2-py2.py3-none-any.whl size=281824025 sha256=ee4600427dd833596284be67d946148895f4f70015f19e804fe993fd4e20e475\n",
            "  Stored in directory: /root/.cache/pip/wheels/6c/e3/9b/0525ce8a69478916513509d43693511463c6468db0de237c86\n",
            "Successfully built pyspark\n",
            "Installing collected packages: py4j, pyspark\n",
            "Successfully installed py4j-0.10.9.5 pyspark-3.3.2\n"
          ]
        }
      ]
    },
    {
      "cell_type": "code",
      "source": [
        "from pyspark.sql import SparkSession"
      ],
      "metadata": {
        "id": "Su8h8zqh9hKw"
      },
      "execution_count": 5,
      "outputs": []
    },
    {
      "cell_type": "code",
      "source": [
        "spark=SparkSession.builder.master('local[4]').appName('project').getOrCreate()"
      ],
      "metadata": {
        "id": "6AiYDHiR--eR"
      },
      "execution_count": 6,
      "outputs": []
    },
    {
      "cell_type": "code",
      "source": [
        "# Load data\n",
        "df=spark.read.csv('/content/drive/MyDrive/Project_knowit/finalclassification.csv',header=True,inferSchema=True)"
      ],
      "metadata": {
        "id": "CET3LYLX_Kq_"
      },
      "execution_count": 7,
      "outputs": []
    },
    {
      "cell_type": "code",
      "source": [
        "df"
      ],
      "metadata": {
        "colab": {
          "base_uri": "https://localhost:8080/"
        },
        "id": "fsa6Lt6zBJBz",
        "outputId": "6ce1433b-8f33-49ba-db8a-4d3abf7240fa"
      },
      "execution_count": 8,
      "outputs": [
        {
          "output_type": "execute_result",
          "data": {
            "text/plain": [
              "DataFrame[_c0: int, year: int, month: int, airport: string, arr_del15: double, carrier_ct: double, weather_ct: double, nas_ct: double, security_ct: double, late_aircraft_ct: double, arr_diverted: double, carrier_delay: double, weather_delay: double, nas_delay: double, security_delay: double, late_aircraft_delay: double, arr_delay: int]"
            ]
          },
          "metadata": {},
          "execution_count": 8
        }
      ]
    },
    {
      "cell_type": "code",
      "source": [
        "df.count()"
      ],
      "metadata": {
        "colab": {
          "base_uri": "https://localhost:8080/"
        },
        "id": "xlu5m7J4BVOr",
        "outputId": "5d0e4e51-014a-41a1-c60c-49f60aebe597"
      },
      "execution_count": 9,
      "outputs": [
        {
          "output_type": "execute_result",
          "data": {
            "text/plain": [
              "78439"
            ]
          },
          "metadata": {},
          "execution_count": 9
        }
      ]
    },
    {
      "cell_type": "code",
      "source": [
        "df.show(5)"
      ],
      "metadata": {
        "colab": {
          "base_uri": "https://localhost:8080/"
        },
        "id": "nKfctjm81kur",
        "outputId": "059dd9a1-722f-49cc-bcdc-afa243ef7034"
      },
      "execution_count": 10,
      "outputs": [
        {
          "output_type": "stream",
          "name": "stdout",
          "text": [
            "+---+----+-----+-------+--------------------+--------------------+--------------------+--------------------+--------------------+--------------------+--------------------+--------------------+--------------------+--------------------+--------------------+--------------------+---------+\n",
            "|_c0|year|month|airport|           arr_del15|          carrier_ct|          weather_ct|              nas_ct|         security_ct|    late_aircraft_ct|        arr_diverted|       carrier_delay|       weather_delay|           nas_delay|      security_delay| late_aircraft_delay|arr_delay|\n",
            "+---+----+-----+-------+--------------------+--------------------+--------------------+--------------------+--------------------+--------------------+--------------------+--------------------+--------------------+--------------------+--------------------+--------------------+---------+\n",
            "|  0|2022|   11|    ABY| -0.3317854945166775|-0.37592621851215446|-0.17641855560199077| -0.2618669900411791|-0.20422931220321408|-0.30207013172410563|-0.21751042488763414|-0.31942066261662055| -0.2189204203790931| -0.2322328466643075|-0.16328325252122247| -0.2919771678360527|        1|\n",
            "|  1|2022|   11|    AEX|-0.31189725026354825| -0.3388439808754711| -0.2826017595416632|-0.24831928093303945|-0.20422931220321408| -0.2797315676646038|-0.21751042488763414| -0.2752186455797801| -0.2505171497646297|-0.21785303619524807|-0.16328325252122247|-0.28215884062730834|        1|\n",
            "|  2|2022|   11|    AGS|-0.33841490926772055|-0.37571671434471554| -0.2826017595416632|-0.28697009809449664|-0.20422931220321408|-0.28492658256216236|-0.21751042488763414| -0.3191723366782113| -0.2505171497646297|-0.24205320503342123|-0.16328325252122247|-0.26526218450063194|        1|\n",
            "|  3|2022|   11|    ALB|-0.24560310275311747| -0.2688695889508821| -0.2826017595416632|-0.23337695471082662|-0.20422931220321408| -0.1773897741826997|-0.21751042488763414|-0.23647979918794235| -0.2505171497646297|-0.22030812578752648|-0.16328325252122247| -0.0924139589885508|        1|\n",
            "|  4|2022|   11|    ATL| 0.41070895760014714| 0.22472222953514107| 0.04168748492274184|  0.4555638996413329|-0.20422931220321408|  0.4910354759698377|   0.090656235710359|  1.0342040276520168|-0.09496402048198788| 0.13357550258517975|-0.16328325252122247|  0.6725022305299061|        1|\n",
            "+---+----+-----+-------+--------------------+--------------------+--------------------+--------------------+--------------------+--------------------+--------------------+--------------------+--------------------+--------------------+--------------------+--------------------+---------+\n",
            "only showing top 5 rows\n",
            "\n"
          ]
        }
      ]
    },
    {
      "cell_type": "code",
      "source": [
        "df.summary().show()"
      ],
      "metadata": {
        "colab": {
          "base_uri": "https://localhost:8080/"
        },
        "id": "aIqGBKaq1nvs",
        "outputId": "0156cba5-ce27-4996-eaa5-a673c6963fc0"
      },
      "execution_count": 11,
      "outputs": [
        {
          "output_type": "stream",
          "name": "stdout",
          "text": [
            "+-------+------------------+-----------------+------------------+-------+--------------------+--------------------+--------------------+--------------------+--------------------+--------------------+--------------------+--------------------+-------------------+--------------------+--------------------+--------------------+-------------------+\n",
            "|summary|               _c0|             year|             month|airport|           arr_del15|          carrier_ct|          weather_ct|              nas_ct|         security_ct|    late_aircraft_ct|        arr_diverted|       carrier_delay|      weather_delay|           nas_delay|      security_delay| late_aircraft_delay|          arr_delay|\n",
            "+-------+------------------+-----------------+------------------+-------+--------------------+--------------------+--------------------+--------------------+--------------------+--------------------+--------------------+--------------------+-------------------+--------------------+--------------------+--------------------+-------------------+\n",
            "|  count|             78439|            78439|             78439|  78439|               78439|               78439|               78439|               78439|               78439|               78439|               78439|               78439|              78439|               78439|               78439|               78439|              78439|\n",
            "|   mean|           39219.0|2020.463646910338|  6.37525975598873|   null|-4.04807988062664...|-1.19355309047477...|5.344537973437437...|-1.80011285776523...|-4.13823046013791...|-1.76967616693345...|-3.54370043255716...|-3.02772605464699...|4.4321619315991E-15|-3.20020063602708...|-1.02665856908051...|3.523409305335975...| 0.9425668353752598|\n",
            "| stddev|22643.533219589797|1.122078092798371|3.4034478648355804|   null|   1.000006374441041|  1.0000063744410417|  1.0000063744410417|   1.000006374441041|   1.000006374441042|  1.0000063744410417|  1.0000063744410412|  1.0000063744410415| 1.0000063744410408|  1.0000063744410423|   1.000006374441041|  1.0000063744410417|0.23266990863390855|\n",
            "|    min|                 0|             2019|                 1|    ABE| -0.3450443240187636|-0.37592621851215446| -0.2826017595416632|-0.28697009809449664|-0.20422931220321408|-0.30207013172410563|-0.21751042488763414|-0.31942066261662055|-0.2505171497646297|-0.24205320503342123|-0.16328325252122247| -0.2919771678360527|                  0|\n",
            "|    25%|             19604|             2019|                 3|   null|-0.31189725026354825| -0.3403105100475433| -0.2826017595416632|-0.27621162321450343|-0.20422931220321408| -0.2876972571741936|-0.21751042488763414|-0.30079621723592936|-0.2505171497646297|-0.23609084459503074|-0.16328325252122247|-0.28581217168172485|                  1|\n",
            "|    50%|             39222|             2020|                 6|   null|-0.25886193225520365|-0.27117413479270985| -0.2610781371214594| -0.2321815686130496|-0.20422931220321408| -0.2461371379937249|-0.21751042488763414|-0.24815111829317552|-0.2407950791844646| -0.2069804965723007|-0.16328325252122247|-0.24471219731953908|                  1|\n",
            "|    75%|             58830|             2021|                 9|   null|-0.10638539298121286|-0.08345840076746507|-0.05588627004884904|-0.11901835135682444|-0.20422931220321408|-0.11522276257524869|-0.21751042488763414|-0.08847753989604952|-0.0986097969495498| -0.1228059962656114|-0.16328325252122247|-0.11227894659694058|                  1|\n",
            "|    max|             78438|             2022|                12|    YUM|  24.276602061355227|  23.654201786728443|   32.14632268689885|   29.31517276522319|   73.59716218414432|  26.223849102373258|   47.24015530720331|  29.336904531904022|  33.62603778682071|  33.877729767198474|   79.82949456981284|   32.40350910366451|                  1|\n",
            "+-------+------------------+-----------------+------------------+-------+--------------------+--------------------+--------------------+--------------------+--------------------+--------------------+--------------------+--------------------+-------------------+--------------------+--------------------+--------------------+-------------------+\n",
            "\n"
          ]
        }
      ]
    },
    {
      "cell_type": "code",
      "source": [
        "pdf = df.toPandas()"
      ],
      "metadata": {
        "id": "U2SbXggc1p78"
      },
      "execution_count": 12,
      "outputs": []
    },
    {
      "cell_type": "code",
      "source": [
        "pdf.info()"
      ],
      "metadata": {
        "colab": {
          "base_uri": "https://localhost:8080/"
        },
        "id": "8_yLAoHP1sLM",
        "outputId": "dc34e6ab-b8af-4272-ddc5-a0a551addbe6"
      },
      "execution_count": 13,
      "outputs": [
        {
          "output_type": "stream",
          "name": "stdout",
          "text": [
            "<class 'pandas.core.frame.DataFrame'>\n",
            "RangeIndex: 78439 entries, 0 to 78438\n",
            "Data columns (total 17 columns):\n",
            " #   Column               Non-Null Count  Dtype  \n",
            "---  ------               --------------  -----  \n",
            " 0   _c0                  78439 non-null  int32  \n",
            " 1   year                 78439 non-null  int32  \n",
            " 2   month                78439 non-null  int32  \n",
            " 3   airport              78439 non-null  object \n",
            " 4   arr_del15            78439 non-null  float64\n",
            " 5   carrier_ct           78439 non-null  float64\n",
            " 6   weather_ct           78439 non-null  float64\n",
            " 7   nas_ct               78439 non-null  float64\n",
            " 8   security_ct          78439 non-null  float64\n",
            " 9   late_aircraft_ct     78439 non-null  float64\n",
            " 10  arr_diverted         78439 non-null  float64\n",
            " 11  carrier_delay        78439 non-null  float64\n",
            " 12  weather_delay        78439 non-null  float64\n",
            " 13  nas_delay            78439 non-null  float64\n",
            " 14  security_delay       78439 non-null  float64\n",
            " 15  late_aircraft_delay  78439 non-null  float64\n",
            " 16  arr_delay            78439 non-null  int32  \n",
            "dtypes: float64(12), int32(4), object(1)\n",
            "memory usage: 9.0+ MB\n"
          ]
        }
      ]
    },
    {
      "cell_type": "code",
      "source": [
        "df.groupby('arr_delay').count().show()"
      ],
      "metadata": {
        "colab": {
          "base_uri": "https://localhost:8080/"
        },
        "id": "d5iROq_81tzr",
        "outputId": "0b1e33cf-dc1e-4736-d3c5-71686245b7ad"
      },
      "execution_count": 14,
      "outputs": [
        {
          "output_type": "stream",
          "name": "stdout",
          "text": [
            "+---------+-----+\n",
            "|arr_delay|count|\n",
            "+---------+-----+\n",
            "|        1|73934|\n",
            "|        0| 4505|\n",
            "+---------+-----+\n",
            "\n"
          ]
        }
      ]
    },
    {
      "cell_type": "code",
      "source": [
        "pdf['arr_delay'].value_counts()"
      ],
      "metadata": {
        "colab": {
          "base_uri": "https://localhost:8080/"
        },
        "id": "0Qtfhwve1wDK",
        "outputId": "3960f9bd-e567-4223-f9aa-d77d6fd3e662"
      },
      "execution_count": 16,
      "outputs": [
        {
          "output_type": "execute_result",
          "data": {
            "text/plain": [
              "1    73934\n",
              "0     4505\n",
              "Name: arr_delay, dtype: int64"
            ]
          },
          "metadata": {},
          "execution_count": 16
        }
      ]
    },
    {
      "cell_type": "code",
      "source": [
        "pdf.isnull().sum()"
      ],
      "metadata": {
        "colab": {
          "base_uri": "https://localhost:8080/"
        },
        "id": "cVpJt1JR2OqQ",
        "outputId": "6b3491bb-082b-47f2-fe3d-abfb6845e2b6"
      },
      "execution_count": 17,
      "outputs": [
        {
          "output_type": "execute_result",
          "data": {
            "text/plain": [
              "_c0                    0\n",
              "year                   0\n",
              "month                  0\n",
              "airport                0\n",
              "arr_del15              0\n",
              "carrier_ct             0\n",
              "weather_ct             0\n",
              "nas_ct                 0\n",
              "security_ct            0\n",
              "late_aircraft_ct       0\n",
              "arr_diverted           0\n",
              "carrier_delay          0\n",
              "weather_delay          0\n",
              "nas_delay              0\n",
              "security_delay         0\n",
              "late_aircraft_delay    0\n",
              "arr_delay              0\n",
              "dtype: int64"
            ]
          },
          "metadata": {},
          "execution_count": 17
        }
      ]
    },
    {
      "cell_type": "code",
      "source": [
        "from pyspark.sql.functions import isnull,when,count,col"
      ],
      "metadata": {
        "id": "4em4_95T2UYC"
      },
      "execution_count": 18,
      "outputs": []
    },
    {
      "cell_type": "code",
      "source": [
        "\n",
        "df.select([count(when(isnull(c),c)).alias(c) for c in df.columns]).show()"
      ],
      "metadata": {
        "colab": {
          "base_uri": "https://localhost:8080/"
        },
        "id": "uPMUqb9X2Wyu",
        "outputId": "7e66b979-6f50-4365-8464-2168f2b9d7bd"
      },
      "execution_count": 19,
      "outputs": [
        {
          "output_type": "stream",
          "name": "stdout",
          "text": [
            "+---+----+-----+-------+---------+----------+----------+------+-----------+----------------+------------+-------------+-------------+---------+--------------+-------------------+---------+\n",
            "|_c0|year|month|airport|arr_del15|carrier_ct|weather_ct|nas_ct|security_ct|late_aircraft_ct|arr_diverted|carrier_delay|weather_delay|nas_delay|security_delay|late_aircraft_delay|arr_delay|\n",
            "+---+----+-----+-------+---------+----------+----------+------+-----------+----------------+------------+-------------+-------------+---------+--------------+-------------------+---------+\n",
            "|  0|   0|    0|      0|        0|         0|         0|     0|          0|               0|           0|            0|            0|        0|             0|                  0|        0|\n",
            "+---+----+-----+-------+---------+----------+----------+------+-----------+----------------+------------+-------------+-------------+---------+--------------+-------------------+---------+\n",
            "\n"
          ]
        }
      ]
    },
    {
      "cell_type": "code",
      "source": [
        "# Prepare features and label\n",
        "required_features =['year','month','arr_del15','carrier_ct','weather_ct','nas_ct','security_ct','late_aircraft_ct','arr_diverted','carrier_delay','weather_delay','nas_delay','security_delay','late_aircraft_delay']"
      ],
      "metadata": {
        "id": "w4oMGKSAaj9Y"
      },
      "execution_count": 20,
      "outputs": []
    },
    {
      "cell_type": "code",
      "source": [
        "pdf[required_features]"
      ],
      "metadata": {
        "colab": {
          "base_uri": "https://localhost:8080/",
          "height": 487
        },
        "id": "WMFJIIaT0GAm",
        "outputId": "a4ab3664-9c7d-4a6b-803a-5325323aaddd"
      },
      "execution_count": 21,
      "outputs": [
        {
          "output_type": "execute_result",
          "data": {
            "text/plain": [
              "       year  month  arr_del15  carrier_ct  weather_ct    nas_ct  security_ct  \\\n",
              "0      2022     11  -0.331785   -0.375926   -0.176419 -0.261867    -0.204229   \n",
              "1      2022     11  -0.311897   -0.338844   -0.282602 -0.248319    -0.204229   \n",
              "2      2022     11  -0.338415   -0.375717   -0.282602 -0.286970    -0.204229   \n",
              "3      2022     11  -0.245603   -0.268870   -0.282602 -0.233377    -0.204229   \n",
              "4      2022     11   0.410709    0.224722    0.041687  0.455564    -0.204229   \n",
              "...     ...    ...        ...         ...         ...       ...          ...   \n",
              "78434  2019      1   0.105756   -0.122007   -0.014274  0.071048    -0.204229   \n",
              "78435  2019      1  -0.252233   -0.318522   -0.183593 -0.237959    -0.204229   \n",
              "78436  2019      1  -0.172680   -0.278088    0.041687 -0.051678    -0.204229   \n",
              "78437  2019      1  -0.113015   -0.232835    0.710355 -0.057854    -0.204229   \n",
              "78438  2019      1  -0.318527   -0.351624   -0.190768 -0.248718    -0.204229   \n",
              "\n",
              "       late_aircraft_ct  arr_diverted  carrier_delay  weather_delay  \\\n",
              "0             -0.302070     -0.217510      -0.319421      -0.218920   \n",
              "1             -0.279732     -0.217510      -0.275219      -0.250517   \n",
              "2             -0.284927     -0.217510      -0.319172      -0.250517   \n",
              "3             -0.177390     -0.217510      -0.236480      -0.250517   \n",
              "4              0.491035      0.090656       1.034204      -0.094964   \n",
              "...                 ...           ...            ...            ...   \n",
              "78434          0.322024     -0.217510      -0.169680      -0.012326   \n",
              "78435         -0.161632      0.090656      -0.239211      -0.212844   \n",
              "78436         -0.176351     -0.217510      -0.241695      -0.130207   \n",
              "78437         -0.133232     -0.217510      -0.201714       0.518742   \n",
              "78438         -0.297048     -0.217510      -0.307004      -0.233504   \n",
              "\n",
              "       nas_delay  security_delay  late_aircraft_delay  \n",
              "0      -0.232233       -0.163283            -0.291977  \n",
              "1      -0.217853       -0.163283            -0.282159  \n",
              "2      -0.242053       -0.163283            -0.265262  \n",
              "3      -0.220308       -0.163283            -0.092414  \n",
              "4       0.133576       -0.163283             0.672502  \n",
              "...          ...             ...                  ...  \n",
              "78434   0.031514       -0.163283             0.292327  \n",
              "78435  -0.202772       -0.163283            -0.232611  \n",
              "78436  -0.072301       -0.163283            -0.209092  \n",
              "78437  -0.058623       -0.163283            -0.137396  \n",
              "78438  -0.227673       -0.163283            -0.288552  \n",
              "\n",
              "[78439 rows x 14 columns]"
            ],
            "text/html": [
              "\n",
              "  <div id=\"df-76dbcbe0-0f06-48c6-a33b-8aea87586c84\">\n",
              "    <div class=\"colab-df-container\">\n",
              "      <div>\n",
              "<style scoped>\n",
              "    .dataframe tbody tr th:only-of-type {\n",
              "        vertical-align: middle;\n",
              "    }\n",
              "\n",
              "    .dataframe tbody tr th {\n",
              "        vertical-align: top;\n",
              "    }\n",
              "\n",
              "    .dataframe thead th {\n",
              "        text-align: right;\n",
              "    }\n",
              "</style>\n",
              "<table border=\"1\" class=\"dataframe\">\n",
              "  <thead>\n",
              "    <tr style=\"text-align: right;\">\n",
              "      <th></th>\n",
              "      <th>year</th>\n",
              "      <th>month</th>\n",
              "      <th>arr_del15</th>\n",
              "      <th>carrier_ct</th>\n",
              "      <th>weather_ct</th>\n",
              "      <th>nas_ct</th>\n",
              "      <th>security_ct</th>\n",
              "      <th>late_aircraft_ct</th>\n",
              "      <th>arr_diverted</th>\n",
              "      <th>carrier_delay</th>\n",
              "      <th>weather_delay</th>\n",
              "      <th>nas_delay</th>\n",
              "      <th>security_delay</th>\n",
              "      <th>late_aircraft_delay</th>\n",
              "    </tr>\n",
              "  </thead>\n",
              "  <tbody>\n",
              "    <tr>\n",
              "      <th>0</th>\n",
              "      <td>2022</td>\n",
              "      <td>11</td>\n",
              "      <td>-0.331785</td>\n",
              "      <td>-0.375926</td>\n",
              "      <td>-0.176419</td>\n",
              "      <td>-0.261867</td>\n",
              "      <td>-0.204229</td>\n",
              "      <td>-0.302070</td>\n",
              "      <td>-0.217510</td>\n",
              "      <td>-0.319421</td>\n",
              "      <td>-0.218920</td>\n",
              "      <td>-0.232233</td>\n",
              "      <td>-0.163283</td>\n",
              "      <td>-0.291977</td>\n",
              "    </tr>\n",
              "    <tr>\n",
              "      <th>1</th>\n",
              "      <td>2022</td>\n",
              "      <td>11</td>\n",
              "      <td>-0.311897</td>\n",
              "      <td>-0.338844</td>\n",
              "      <td>-0.282602</td>\n",
              "      <td>-0.248319</td>\n",
              "      <td>-0.204229</td>\n",
              "      <td>-0.279732</td>\n",
              "      <td>-0.217510</td>\n",
              "      <td>-0.275219</td>\n",
              "      <td>-0.250517</td>\n",
              "      <td>-0.217853</td>\n",
              "      <td>-0.163283</td>\n",
              "      <td>-0.282159</td>\n",
              "    </tr>\n",
              "    <tr>\n",
              "      <th>2</th>\n",
              "      <td>2022</td>\n",
              "      <td>11</td>\n",
              "      <td>-0.338415</td>\n",
              "      <td>-0.375717</td>\n",
              "      <td>-0.282602</td>\n",
              "      <td>-0.286970</td>\n",
              "      <td>-0.204229</td>\n",
              "      <td>-0.284927</td>\n",
              "      <td>-0.217510</td>\n",
              "      <td>-0.319172</td>\n",
              "      <td>-0.250517</td>\n",
              "      <td>-0.242053</td>\n",
              "      <td>-0.163283</td>\n",
              "      <td>-0.265262</td>\n",
              "    </tr>\n",
              "    <tr>\n",
              "      <th>3</th>\n",
              "      <td>2022</td>\n",
              "      <td>11</td>\n",
              "      <td>-0.245603</td>\n",
              "      <td>-0.268870</td>\n",
              "      <td>-0.282602</td>\n",
              "      <td>-0.233377</td>\n",
              "      <td>-0.204229</td>\n",
              "      <td>-0.177390</td>\n",
              "      <td>-0.217510</td>\n",
              "      <td>-0.236480</td>\n",
              "      <td>-0.250517</td>\n",
              "      <td>-0.220308</td>\n",
              "      <td>-0.163283</td>\n",
              "      <td>-0.092414</td>\n",
              "    </tr>\n",
              "    <tr>\n",
              "      <th>4</th>\n",
              "      <td>2022</td>\n",
              "      <td>11</td>\n",
              "      <td>0.410709</td>\n",
              "      <td>0.224722</td>\n",
              "      <td>0.041687</td>\n",
              "      <td>0.455564</td>\n",
              "      <td>-0.204229</td>\n",
              "      <td>0.491035</td>\n",
              "      <td>0.090656</td>\n",
              "      <td>1.034204</td>\n",
              "      <td>-0.094964</td>\n",
              "      <td>0.133576</td>\n",
              "      <td>-0.163283</td>\n",
              "      <td>0.672502</td>\n",
              "    </tr>\n",
              "    <tr>\n",
              "      <th>...</th>\n",
              "      <td>...</td>\n",
              "      <td>...</td>\n",
              "      <td>...</td>\n",
              "      <td>...</td>\n",
              "      <td>...</td>\n",
              "      <td>...</td>\n",
              "      <td>...</td>\n",
              "      <td>...</td>\n",
              "      <td>...</td>\n",
              "      <td>...</td>\n",
              "      <td>...</td>\n",
              "      <td>...</td>\n",
              "      <td>...</td>\n",
              "      <td>...</td>\n",
              "    </tr>\n",
              "    <tr>\n",
              "      <th>78434</th>\n",
              "      <td>2019</td>\n",
              "      <td>1</td>\n",
              "      <td>0.105756</td>\n",
              "      <td>-0.122007</td>\n",
              "      <td>-0.014274</td>\n",
              "      <td>0.071048</td>\n",
              "      <td>-0.204229</td>\n",
              "      <td>0.322024</td>\n",
              "      <td>-0.217510</td>\n",
              "      <td>-0.169680</td>\n",
              "      <td>-0.012326</td>\n",
              "      <td>0.031514</td>\n",
              "      <td>-0.163283</td>\n",
              "      <td>0.292327</td>\n",
              "    </tr>\n",
              "    <tr>\n",
              "      <th>78435</th>\n",
              "      <td>2019</td>\n",
              "      <td>1</td>\n",
              "      <td>-0.252233</td>\n",
              "      <td>-0.318522</td>\n",
              "      <td>-0.183593</td>\n",
              "      <td>-0.237959</td>\n",
              "      <td>-0.204229</td>\n",
              "      <td>-0.161632</td>\n",
              "      <td>0.090656</td>\n",
              "      <td>-0.239211</td>\n",
              "      <td>-0.212844</td>\n",
              "      <td>-0.202772</td>\n",
              "      <td>-0.163283</td>\n",
              "      <td>-0.232611</td>\n",
              "    </tr>\n",
              "    <tr>\n",
              "      <th>78436</th>\n",
              "      <td>2019</td>\n",
              "      <td>1</td>\n",
              "      <td>-0.172680</td>\n",
              "      <td>-0.278088</td>\n",
              "      <td>0.041687</td>\n",
              "      <td>-0.051678</td>\n",
              "      <td>-0.204229</td>\n",
              "      <td>-0.176351</td>\n",
              "      <td>-0.217510</td>\n",
              "      <td>-0.241695</td>\n",
              "      <td>-0.130207</td>\n",
              "      <td>-0.072301</td>\n",
              "      <td>-0.163283</td>\n",
              "      <td>-0.209092</td>\n",
              "    </tr>\n",
              "    <tr>\n",
              "      <th>78437</th>\n",
              "      <td>2019</td>\n",
              "      <td>1</td>\n",
              "      <td>-0.113015</td>\n",
              "      <td>-0.232835</td>\n",
              "      <td>0.710355</td>\n",
              "      <td>-0.057854</td>\n",
              "      <td>-0.204229</td>\n",
              "      <td>-0.133232</td>\n",
              "      <td>-0.217510</td>\n",
              "      <td>-0.201714</td>\n",
              "      <td>0.518742</td>\n",
              "      <td>-0.058623</td>\n",
              "      <td>-0.163283</td>\n",
              "      <td>-0.137396</td>\n",
              "    </tr>\n",
              "    <tr>\n",
              "      <th>78438</th>\n",
              "      <td>2019</td>\n",
              "      <td>1</td>\n",
              "      <td>-0.318527</td>\n",
              "      <td>-0.351624</td>\n",
              "      <td>-0.190768</td>\n",
              "      <td>-0.248718</td>\n",
              "      <td>-0.204229</td>\n",
              "      <td>-0.297048</td>\n",
              "      <td>-0.217510</td>\n",
              "      <td>-0.307004</td>\n",
              "      <td>-0.233504</td>\n",
              "      <td>-0.227673</td>\n",
              "      <td>-0.163283</td>\n",
              "      <td>-0.288552</td>\n",
              "    </tr>\n",
              "  </tbody>\n",
              "</table>\n",
              "<p>78439 rows × 14 columns</p>\n",
              "</div>\n",
              "      <button class=\"colab-df-convert\" onclick=\"convertToInteractive('df-76dbcbe0-0f06-48c6-a33b-8aea87586c84')\"\n",
              "              title=\"Convert this dataframe to an interactive table.\"\n",
              "              style=\"display:none;\">\n",
              "        \n",
              "  <svg xmlns=\"http://www.w3.org/2000/svg\" height=\"24px\"viewBox=\"0 0 24 24\"\n",
              "       width=\"24px\">\n",
              "    <path d=\"M0 0h24v24H0V0z\" fill=\"none\"/>\n",
              "    <path d=\"M18.56 5.44l.94 2.06.94-2.06 2.06-.94-2.06-.94-.94-2.06-.94 2.06-2.06.94zm-11 1L8.5 8.5l.94-2.06 2.06-.94-2.06-.94L8.5 2.5l-.94 2.06-2.06.94zm10 10l.94 2.06.94-2.06 2.06-.94-2.06-.94-.94-2.06-.94 2.06-2.06.94z\"/><path d=\"M17.41 7.96l-1.37-1.37c-.4-.4-.92-.59-1.43-.59-.52 0-1.04.2-1.43.59L10.3 9.45l-7.72 7.72c-.78.78-.78 2.05 0 2.83L4 21.41c.39.39.9.59 1.41.59.51 0 1.02-.2 1.41-.59l7.78-7.78 2.81-2.81c.8-.78.8-2.07 0-2.86zM5.41 20L4 18.59l7.72-7.72 1.47 1.35L5.41 20z\"/>\n",
              "  </svg>\n",
              "      </button>\n",
              "      \n",
              "  <style>\n",
              "    .colab-df-container {\n",
              "      display:flex;\n",
              "      flex-wrap:wrap;\n",
              "      gap: 12px;\n",
              "    }\n",
              "\n",
              "    .colab-df-convert {\n",
              "      background-color: #E8F0FE;\n",
              "      border: none;\n",
              "      border-radius: 50%;\n",
              "      cursor: pointer;\n",
              "      display: none;\n",
              "      fill: #1967D2;\n",
              "      height: 32px;\n",
              "      padding: 0 0 0 0;\n",
              "      width: 32px;\n",
              "    }\n",
              "\n",
              "    .colab-df-convert:hover {\n",
              "      background-color: #E2EBFA;\n",
              "      box-shadow: 0px 1px 2px rgba(60, 64, 67, 0.3), 0px 1px 3px 1px rgba(60, 64, 67, 0.15);\n",
              "      fill: #174EA6;\n",
              "    }\n",
              "\n",
              "    [theme=dark] .colab-df-convert {\n",
              "      background-color: #3B4455;\n",
              "      fill: #D2E3FC;\n",
              "    }\n",
              "\n",
              "    [theme=dark] .colab-df-convert:hover {\n",
              "      background-color: #434B5C;\n",
              "      box-shadow: 0px 1px 3px 1px rgba(0, 0, 0, 0.15);\n",
              "      filter: drop-shadow(0px 1px 2px rgba(0, 0, 0, 0.3));\n",
              "      fill: #FFFFFF;\n",
              "    }\n",
              "  </style>\n",
              "\n",
              "      <script>\n",
              "        const buttonEl =\n",
              "          document.querySelector('#df-76dbcbe0-0f06-48c6-a33b-8aea87586c84 button.colab-df-convert');\n",
              "        buttonEl.style.display =\n",
              "          google.colab.kernel.accessAllowed ? 'block' : 'none';\n",
              "\n",
              "        async function convertToInteractive(key) {\n",
              "          const element = document.querySelector('#df-76dbcbe0-0f06-48c6-a33b-8aea87586c84');\n",
              "          const dataTable =\n",
              "            await google.colab.kernel.invokeFunction('convertToInteractive',\n",
              "                                                     [key], {});\n",
              "          if (!dataTable) return;\n",
              "\n",
              "          const docLinkHtml = 'Like what you see? Visit the ' +\n",
              "            '<a target=\"_blank\" href=https://colab.research.google.com/notebooks/data_table.ipynb>data table notebook</a>'\n",
              "            + ' to learn more about interactive tables.';\n",
              "          element.innerHTML = '';\n",
              "          dataTable['output_type'] = 'display_data';\n",
              "          await google.colab.output.renderOutput(dataTable, element);\n",
              "          const docLink = document.createElement('div');\n",
              "          docLink.innerHTML = docLinkHtml;\n",
              "          element.appendChild(docLink);\n",
              "        }\n",
              "      </script>\n",
              "    </div>\n",
              "  </div>\n",
              "  "
            ]
          },
          "metadata": {},
          "execution_count": 21
        }
      ]
    },
    {
      "cell_type": "code",
      "source": [
        "# Import PySpark libraries\n",
        "from pyspark.ml.feature import VectorAssembler"
      ],
      "metadata": {
        "id": "w9-eOJAD2zP9"
      },
      "execution_count": 22,
      "outputs": []
    },
    {
      "cell_type": "code",
      "source": [
        "\n",
        "assembler= VectorAssembler(inputCols=required_features,\n",
        "                           outputCol='features')"
      ],
      "metadata": {
        "id": "agmtpT8w23UZ"
      },
      "execution_count": 23,
      "outputs": []
    },
    {
      "cell_type": "code",
      "source": [
        "transformed_data=assembler.transform(df)"
      ],
      "metadata": {
        "id": "6afZU9lq297j"
      },
      "execution_count": 24,
      "outputs": []
    },
    {
      "cell_type": "code",
      "source": [
        "transformed_data.show(5)"
      ],
      "metadata": {
        "colab": {
          "base_uri": "https://localhost:8080/"
        },
        "id": "tC69atPW3BPi",
        "outputId": "2a124cd9-9d67-4946-8b64-72b44ec3ebe7"
      },
      "execution_count": 25,
      "outputs": [
        {
          "output_type": "stream",
          "name": "stdout",
          "text": [
            "+---+----+-----+-------+--------------------+--------------------+--------------------+--------------------+--------------------+--------------------+--------------------+--------------------+--------------------+--------------------+--------------------+--------------------+---------+--------------------+\n",
            "|_c0|year|month|airport|           arr_del15|          carrier_ct|          weather_ct|              nas_ct|         security_ct|    late_aircraft_ct|        arr_diverted|       carrier_delay|       weather_delay|           nas_delay|      security_delay| late_aircraft_delay|arr_delay|            features|\n",
            "+---+----+-----+-------+--------------------+--------------------+--------------------+--------------------+--------------------+--------------------+--------------------+--------------------+--------------------+--------------------+--------------------+--------------------+---------+--------------------+\n",
            "|  0|2022|   11|    ABY| -0.3317854945166775|-0.37592621851215446|-0.17641855560199077| -0.2618669900411791|-0.20422931220321408|-0.30207013172410563|-0.21751042488763414|-0.31942066261662055| -0.2189204203790931| -0.2322328466643075|-0.16328325252122247| -0.2919771678360527|        1|[2022.0,11.0,-0.3...|\n",
            "|  1|2022|   11|    AEX|-0.31189725026354825| -0.3388439808754711| -0.2826017595416632|-0.24831928093303945|-0.20422931220321408| -0.2797315676646038|-0.21751042488763414| -0.2752186455797801| -0.2505171497646297|-0.21785303619524807|-0.16328325252122247|-0.28215884062730834|        1|[2022.0,11.0,-0.3...|\n",
            "|  2|2022|   11|    AGS|-0.33841490926772055|-0.37571671434471554| -0.2826017595416632|-0.28697009809449664|-0.20422931220321408|-0.28492658256216236|-0.21751042488763414| -0.3191723366782113| -0.2505171497646297|-0.24205320503342123|-0.16328325252122247|-0.26526218450063194|        1|[2022.0,11.0,-0.3...|\n",
            "|  3|2022|   11|    ALB|-0.24560310275311747| -0.2688695889508821| -0.2826017595416632|-0.23337695471082662|-0.20422931220321408| -0.1773897741826997|-0.21751042488763414|-0.23647979918794235| -0.2505171497646297|-0.22030812578752648|-0.16328325252122247| -0.0924139589885508|        1|[2022.0,11.0,-0.2...|\n",
            "|  4|2022|   11|    ATL| 0.41070895760014714| 0.22472222953514107| 0.04168748492274184|  0.4555638996413329|-0.20422931220321408|  0.4910354759698377|   0.090656235710359|  1.0342040276520168|-0.09496402048198788| 0.13357550258517975|-0.16328325252122247|  0.6725022305299061|        1|[2022.0,11.0,0.41...|\n",
            "+---+----+-----+-------+--------------------+--------------------+--------------------+--------------------+--------------------+--------------------+--------------------+--------------------+--------------------+--------------------+--------------------+--------------------+---------+--------------------+\n",
            "only showing top 5 rows\n",
            "\n"
          ]
        }
      ]
    },
    {
      "cell_type": "code",
      "source": [
        "# Split data into train and test sets\n",
        "training_data,test_data =transformed_data.randomSplit([0.75,0.25],\n",
        "                                                      seed=123)"
      ],
      "metadata": {
        "id": "78O2VyxG2qHx"
      },
      "execution_count": 26,
      "outputs": []
    },
    {
      "cell_type": "code",
      "source": [
        "training_data.groupby('arr_delay').count().show()"
      ],
      "metadata": {
        "colab": {
          "base_uri": "https://localhost:8080/"
        },
        "id": "b5nhO5oN4t8l",
        "outputId": "577869a3-e955-4962-e5d0-050cee59285b"
      },
      "execution_count": 27,
      "outputs": [
        {
          "output_type": "stream",
          "name": "stdout",
          "text": [
            "+---------+-----+\n",
            "|arr_delay|count|\n",
            "+---------+-----+\n",
            "|        1|55622|\n",
            "|        0| 3381|\n",
            "+---------+-----+\n",
            "\n"
          ]
        }
      ]
    },
    {
      "cell_type": "code",
      "source": [
        "from pyspark.ml.classification import LogisticRegression\n"
      ],
      "metadata": {
        "id": "tAyH7RoS2wij"
      },
      "execution_count": 28,
      "outputs": []
    },
    {
      "cell_type": "code",
      "source": [
        "# Define logistic regression model\n",
        "dt=LogisticRegression(labelCol='arr_delay',featuresCol='features')"
      ],
      "metadata": {
        "id": "RDuwHTH-3fFG"
      },
      "execution_count": 29,
      "outputs": []
    },
    {
      "cell_type": "code",
      "source": [
        "# Fit model to training data\n",
        "model =dt.fit(training_data)"
      ],
      "metadata": {
        "id": "meP1MIKW3kFy"
      },
      "execution_count": 30,
      "outputs": []
    },
    {
      "cell_type": "code",
      "source": [
        "# Make predictions on test data\n",
        "predictions_test =model.transform(test_data)\n",
        "predictions_train =model.transform(training_data)"
      ],
      "metadata": {
        "id": "KFMvRZRd3nUA"
      },
      "execution_count": 82,
      "outputs": []
    },
    {
      "cell_type": "code",
      "source": [
        "predictions_test.show()"
      ],
      "metadata": {
        "colab": {
          "base_uri": "https://localhost:8080/"
        },
        "id": "LuLpHWpB5FaF",
        "outputId": "7759c60d-13fe-427d-8e0e-4ec82df5288f"
      },
      "execution_count": 83,
      "outputs": [
        {
          "output_type": "stream",
          "name": "stdout",
          "text": [
            "+---+----+-----+-------+--------------------+--------------------+--------------------+--------------------+--------------------+--------------------+--------------------+--------------------+--------------------+--------------------+--------------------+--------------------+---------+--------------------+--------------------+--------------------+----------+\n",
            "|_c0|year|month|airport|           arr_del15|          carrier_ct|          weather_ct|              nas_ct|         security_ct|    late_aircraft_ct|        arr_diverted|       carrier_delay|       weather_delay|           nas_delay|      security_delay| late_aircraft_delay|arr_delay|            features|       rawPrediction|         probability|prediction|\n",
            "+---+----+-----+-------+--------------------+--------------------+--------------------+--------------------+--------------------+--------------------+--------------------+--------------------+--------------------+--------------------+--------------------+--------------------+---------+--------------------+--------------------+--------------------+----------+\n",
            "|  2|2022|   11|    AGS|-0.33841490926772055|-0.37571671434471554| -0.2826017595416632|-0.28697009809449664|-0.20422931220321408|-0.28492658256216236|-0.21751042488763414| -0.3191723366782113| -0.2505171497646297|-0.24205320503342123|-0.16328325252122247|-0.26526218450063194|        1|[2022.0,11.0,-0.3...|[-38.807346472281...|[1.40017903224141...|       1.0|\n",
            "|  6|2022|   11|    AUS|  -0.292009006010419| -0.2965241390528155| -0.2696875860895409|-0.23417387877601128|-0.20422931220321408|-0.27678772588932055|   0.090656235710359| -0.2516276814309045|-0.22985774978177884|-0.21118922158763515|-0.16328325252122247| -0.2497355275193618|        1|[2022.0,11.0,-0.2...|[-508.82681046006...|[1.04549984498191...|       1.0|\n",
            "| 12|2022|   11|    BHM|-0.24560310275311747|-0.32962579750815996| -0.2826017595416632|-0.16902533644716336|-0.20422931220321408| -0.1832774577332661|-0.21751042488763414|-0.13193457911766235| -0.2505171497646297|-0.17050487977273532|-0.16328325252122247|-0.19151056383959866|        1|[2022.0,11.0,-0.2...|[-913.92305545610...|           [0.0,1.0]|       1.0|\n",
            "| 13|2022|   11|    BNA|-0.06660890447495439|-0.13499642595743183| -0.2826017595416632| 0.10073345961785225|-0.20422931220321408|-0.11089358349394987|-0.21751042488763414|  -0.141867616654031| -0.2505171497646297| 0.00766447920975701|-0.16328325252122247|-0.01500900727310099|        1|[2022.0,11.0,-0.0...|[-2230.4378962028...|           [0.0,1.0]|       1.0|\n",
            "| 18|2022|   11|    BWI|-0.19256778474477285| -0.3348634016941322| -0.2826017595416632|-0.00605436511689545|-0.20422931220321408| -0.1817189532639985|-0.21751042488763414| -0.2983129578518372| -0.2505171497646297|-0.10211309827355028|-0.16328325252122247|-0.19516389489401517|        1|[2022.0,11.0,-0.1...|[-938.42707522695...|           [0.0,1.0]|       1.0|\n",
            "| 23|2022|   11|    CID| -0.3185266650145913|-0.35497580176826554| -0.2826017595416632|-0.22720079320564532|-0.20422931220321408|-0.30207013172410563|   0.090656235710359| -0.3127158622795717| -0.2505171497646297|-0.22136030704136012|-0.16328325252122247| -0.2919771678360527|        1|[2022.0,11.0,-0.3...|[-151.61521898701...|[1.42674717525651...|       1.0|\n",
            "| 29|2022|   11|    CVG| 0.35767363959180254|  0.0654990622815852|-0.07310516798501215|  0.6414464378456605|-0.20422931220321408| 0.33622403202259205|-0.21751042488763414| 0.18939918518386337| 0.15051826166718124| 0.30578250112928157|-0.16328325252122247| 0.43960237581085354|        1|[2022.0,11.0,0.35...|[-6128.5316208760...|           [0.0,1.0]|       1.0|\n",
            "| 30|2022|   11|    CWA|-0.25886193225520365|-0.26907909311832096| -0.2826017595416632|-0.16025917173013185|-0.20422931220321408|-0.27540238858330496|-0.21751042488763414| -0.2697554749347773| -0.2505171497646297| -0.1554236151344535|-0.16328325252122247| -0.2732538461821681|        1|[2022.0,11.0,-0.2...|[-646.03097948096...|[2.70589208854342...|       1.0|\n",
            "| 33|2022|   11|    DHN| -0.2986384207614621| -0.3608419184565545| 0.07756018895641498|-0.22361463491231423|-0.20422931220321408| -0.2918532690922404|-0.21751042488763414| -0.3132125141563902|-0.01961797348570...|-0.20522686114924465|-0.16328325252122247|-0.28900883635433927|        1|[2022.0,11.0,-0.2...|[-895.90594424691...|           [0.0,1.0]|       1.0|\n",
            "| 34|2022|   11|    DLH| -0.3450443240187636|-0.37592621851215446| -0.2826017595416632|-0.28697009809449664|-0.20422931220321408|-0.30207013172410563|-0.21751042488763414|-0.31942066261662055| -0.2505171497646297|-0.24205320503342123|-0.16328325252122247| -0.2919771678360527|        0|[2022.0,11.0,-0.3...|[15.7975158048375...|[0.99999986220736...|       0.0|\n",
            "| 35|2022|   11|    DSM| -0.1461618814874713| -0.1905150303287375|-0.05588627004884904|-0.02039899829021...|-0.20422931220321408| -0.1948796576711469|-0.21751042488763414|-0.21313716097747604| 0.32065449682007074|-0.06528675438937372|-0.16328325252122247|-0.20863555315717605|        1|[2022.0,11.0,-0.1...|[-2269.0888560984...|           [0.0,1.0]|       1.0|\n",
            "| 38|2022|   11|    EYW| -0.3185266650145913| -0.3130749682804877|-0.15346002502043998|-0.28497778793153494|-0.20422931220321408|-0.30207013172410563|   0.090656235710359| -0.2998029134822925|-0.17517110276835007| -0.2395981154411428|-0.16328325252122247| -0.2919771678360527|        1|[2022.0,11.0,-0.3...|[-419.97362397088...|[4.05296230475177...|       1.0|\n",
            "| 40|2022|   11|    GRB|-0.19919719949581594|  -0.240586526346632| -0.2826017595416632|-0.00764821324726482|-0.20422931220321408|-0.27574872290980884|-0.21751042488763414|-0.24988939986204003| -0.2505171497646297|-0.09580001075054859|-0.16328325252122247|-0.26389218535522574|        1|[2022.0,11.0,-0.1...|[-1039.7059448112...|           [0.0,1.0]|       1.0|\n",
            "| 47|2022|   11|    IND|-0.09975597823016978|-0.19072453449617638|-0.17067892295660306|  0.0919672949008207|-0.20422931220321408| -0.1573023832454732|-0.21751042488763414|-0.01397975837328...|-0.09982505577207045|-0.01127478335924...|-0.16328325252122247|-0.00382068091895...|        1|[2022.0,11.0,-0.0...|[-2524.1330437220...|           [0.0,1.0]|       1.0|\n",
            "| 55|2022|   11|    MBS| -0.3251560797656344|-0.35497580176826554| -0.2826017595416632|-0.24712389483526243|-0.20422931220321408|-0.30207013172410563|-0.21751042488763414|-0.31172255852593483| -0.2505171497646297|-0.22381539663363856|-0.16328325252122247| -0.2919771678360527|        1|[2022.0,11.0,-0.3...|[-123.06380540719...|[3.58152832049467...|       1.0|\n",
            "| 58|2022|   11|    MEM|-0.23234427325103132| -0.2529472722255265| -0.2826017595416632|-0.16763071933309015|-0.20422931220321408|-0.21306220981260193|-0.21751042488763414|-0.20245914562587974| -0.2505171497646297|-0.17962378397262668|-0.16328325252122247| -0.2211938786567328|        1|[2022.0,11.0,-0.2...|[-903.08719968032...|           [0.0,1.0]|       1.0|\n",
            "| 60|2022|   11|    MKE| -0.1793089552426867| -0.2257117304584709| -0.2826017595416632|-0.09172370212424898|-0.20422931220321408|-0.16301689963278762|-0.21751042488763414|0.007376272329907922| -0.2505171497646297|-0.12841762961939068|-0.16328325252122247|-0.12255394018748701|        1|[2022.0,11.0,-0.1...|[-1647.1905309614...|           [0.0,1.0]|       1.0|\n",
            "| 61|2022|   11|    MLU| -0.3251560797656344|-0.33423488919181554| -0.2826017595416632| -0.2867708670782005|-0.20422931220321408|-0.28475341539891036|   0.090656235710359|-0.29458806877569893| -0.2505171497646297|-0.24170247794881003|-0.16328325252122247| -0.2819305074364073|        1|[2022.0,11.0,-0.3...|[-157.19894215482...|[5.36249451692660...|       1.0|\n",
            "| 73|2022|   11|    PWM|-0.01357358646660...| -0.2018282553704375|-0.15346002502043998| 0.22983515817777112|-0.20422931220321408|-0.04474372713170393|-0.21751042488763414| -0.2416946438945359|-0.20798309097640733| 0.02730519594798451|-0.16328325252122247|-0.04103899103581862|        1|[2022.0,11.0,-0.0...|[-2399.1928921117...|           [0.0,1.0]|       1.0|\n",
            "| 77|2022|   11|    ROC|-0.00694417171556...| -0.1528042801897374|0.001510056405027...|  0.1393842767793094|-0.20422931220321408|-0.00820545568554...|-0.21751042488763414|  -0.178619855538595|  1.1907798137448484|0.017134110494259554|-0.16328325252122247|-0.01432400770039...|        1|[2022.0,11.0,-0.0...|[-4133.4510691933...|           [0.0,1.0]|       1.0|\n",
            "+---+----+-----+-------+--------------------+--------------------+--------------------+--------------------+--------------------+--------------------+--------------------+--------------------+--------------------+--------------------+--------------------+--------------------+---------+--------------------+--------------------+--------------------+----------+\n",
            "only showing top 20 rows\n",
            "\n"
          ]
        }
      ]
    },
    {
      "cell_type": "code",
      "source": [
        "predictions_train.show()"
      ],
      "metadata": {
        "colab": {
          "base_uri": "https://localhost:8080/"
        },
        "id": "_i-diI_ovuYZ",
        "outputId": "71d1dd62-fd65-45dd-8ea6-567bd899d84f"
      },
      "execution_count": 84,
      "outputs": [
        {
          "output_type": "stream",
          "name": "stdout",
          "text": [
            "+---+----+-----+-------+--------------------+--------------------+--------------------+--------------------+--------------------+--------------------+--------------------+--------------------+--------------------+--------------------+--------------------+--------------------+---------+--------------------+--------------------+--------------------+----------+\n",
            "|_c0|year|month|airport|           arr_del15|          carrier_ct|          weather_ct|              nas_ct|         security_ct|    late_aircraft_ct|        arr_diverted|       carrier_delay|       weather_delay|           nas_delay|      security_delay| late_aircraft_delay|arr_delay|            features|       rawPrediction|         probability|prediction|\n",
            "+---+----+-----+-------+--------------------+--------------------+--------------------+--------------------+--------------------+--------------------+--------------------+--------------------+--------------------+--------------------+--------------------+--------------------+---------+--------------------+--------------------+--------------------+----------+\n",
            "|  0|2022|   11|    ABY| -0.3317854945166775|-0.37592621851215446|-0.17641855560199077| -0.2618669900411791|-0.20422931220321408|-0.30207013172410563|-0.21751042488763414|-0.31942066261662055| -0.2189204203790931| -0.2322328466643075|-0.16328325252122247| -0.2919771678360527|        1|[2022.0,11.0,-0.3...|[-207.36340167652...|[8.77442978905178...|       1.0|\n",
            "|  1|2022|   11|    AEX|-0.31189725026354825| -0.3388439808754711| -0.2826017595416632|-0.24831928093303945|-0.20422931220321408| -0.2797315676646038|-0.21751042488763414| -0.2752186455797801| -0.2505171497646297|-0.21785303619524807|-0.16328325252122247|-0.28215884062730834|        1|[2022.0,11.0,-0.3...|[-265.31675132288...|[5.94838327667330...|       1.0|\n",
            "|  3|2022|   11|    ALB|-0.24560310275311747| -0.2688695889508821| -0.2826017595416632|-0.23337695471082662|-0.20422931220321408| -0.1773897741826997|-0.21751042488763414|-0.23647979918794235| -0.2505171497646297|-0.22030812578752648|-0.16328325252122247| -0.0924139589885508|        1|[2022.0,11.0,-0.2...|[-870.23801491041...|           [0.0,1.0]|       1.0|\n",
            "|  4|2022|   11|    ATL| 0.41070895760014714| 0.22472222953514107| 0.04168748492274184|  0.4555638996413329|-0.20422931220321408|  0.4910354759698377|   0.090656235710359|  1.0342040276520168|-0.09496402048198788| 0.13357550258517975|-0.16328325252122247|  0.6725022305299061|        1|[2022.0,11.0,0.41...|[-7822.7016851644...|           [0.0,1.0]|       1.0|\n",
            "|  5|2022|   11|    ATW| -0.1793089552426867| -0.2120939595749431|-0.13911094340697072|-0.01382437475244...|-0.20422931220321408| -0.2592978424008733|   0.090656235710359| -0.1850763299372346|-0.21284412626648988|-0.12526108585788984|-0.16328325252122247|-0.26183718663711647|        1|[2022.0,11.0,-0.1...|[-1431.8798791968...|           [0.0,1.0]|       1.0|\n",
            "|  7|2022|   11|    AVL| -0.2986384207614621| -0.3602134059542378| -0.2826017595416632|-0.22959156540119938|-0.20422931220321408|-0.24371279770819756|-0.21751042488763414|-0.30079621723592936| -0.2505171497646297|-0.21153994867224635|-0.16328325252122247| -0.1746139077129223|        1|[2022.0,11.0,-0.2...|[-378.85842776168...|[2.90988215072478...|       1.0|\n",
            "|  8|2022|   11|    AZO| -0.2986384207614621|-0.32920678917328217|-0.15489493318178688|-0.20966846377158227|-0.20422931220321408|-0.30207013172410563|-0.21751042488763414| -0.3012928691127478|0.014409273544869648|-0.19680941111857572|-0.16328325252122247| -0.2919771678360527|        1|[2022.0,11.0,-0.2...|[-716.59833243465...|           [0.0,1.0]|       1.0|\n",
            "|  9|2022|   11|    BDL|-0.19256778474477285|-0.21649354709115978| -0.2826017595416632|-0.15926301664865097|-0.20422931220321408| -0.1465660191238521|-0.21751042488763414|-0.02440944778647175| -0.2505171497646297|-0.15822943181134314|-0.16328325252122247|-0.17666890643103159|        1|[2022.0,11.0,-0.1...|[-1449.4051428335...|           [0.0,1.0]|       1.0|\n",
            "| 10|2022|   11|    BGM| -0.3185266650145913|-0.34282456005680995| -0.2826017595416632|-0.23875619215082322|-0.20422931220321408|-0.30207013172410563|-0.21751042488763414| -0.3062593878809321| -0.2505171497646297|-0.21715158202602564|-0.16328325252122247| -0.2919771678360527|        1|[2022.0,11.0,-0.3...|[-179.53321844018...|[1.07081368564168...|       1.0|\n",
            "| 11|2022|   11|    BGR| -0.1527912962385144|-0.20957990956567638| -0.2826017595416632|-0.12101066151978614|-0.20422931220321408|-0.08162833290436984|-0.21751042488763414|-0.18433135212200696| -0.2505171497646297|-0.14735689218839576|-0.16328325252122247|-0.02596900043635052|        1|[2022.0,11.0,-0.1...|[-1536.0372287065...|           [0.0,1.0]|       1.0|\n",
            "| 14|2022|   11|    BOS| -0.3317854945166775|-0.35497580176826554| -0.2826017595416632| -0.2670469964648795|-0.20422931220321408|-0.30207013172410563|-0.21751042488763414| -0.3122192104027533| -0.2505171497646297|-0.23679229876425315|-0.16328325252122247| -0.2919771678360527|        1|[2022.0,11.0,-0.3...|[-80.492219631131...|[1.10324807427031...|       1.0|\n",
            "| 15|2022|   11|    BQK| -0.3251560797656344| -0.3608419184565545| -0.2826017595416632|-0.24154542637896964|-0.20422931220321408|-0.30207013172410563|-0.21751042488763414| -0.3032794766200215| -0.2505171497646297|-0.22136030704136012|-0.16328325252122247| -0.2919771678360527|        1|[2022.0,11.0,-0.3...|[-133.26101238616...|[1.33498894042054...|       1.0|\n",
            "| 16|2022|   11|    BTV|-0.16605012574060055|-0.22256916794688755| -0.2826017595416632|-0.11941681338941677|-0.20422931220321408|-0.10691073873915495|-0.21751042488763414|-0.10362542213901171| -0.2505171497646297|-0.15682652347289833|-0.16328325252122247|-0.11159394702423749|        1|[2022.0,11.0,-0.1...|[-1496.3224976249...|           [0.0,1.0]|       1.0|\n",
            "| 17|2022|   11|    BUF|-0.07986773397704054|-0.18381089697069303|0.002944964566374...|0.004704109763097805|-0.20422931220321408|-0.05599959274308083|-0.21751042488763414|-0.19798927873451386|  0.2477389674688324|-0.06107802937403925|-0.16328325252122247|-0.11113728064243542|        1|[2022.0,11.0,-0.0...|[-2658.7839946050...|           [0.0,1.0]|       1.0|\n",
            "| 19|2022|   11|    CAE|-0.25223251750416054| -0.2655175222718599|-0.15489493318178688|-0.22620463812416444|-0.20422931220321408| -0.2191230605264203|-0.21751042488763414|-0.23424486574225942|-0.23107300860429947| -0.2017195903031326|-0.16328325252122247|-0.21891054674772248|        1|[2022.0,11.0,-0.2...|[-902.52013035079...|           [0.0,1.0]|       1.0|\n",
            "| 20|2022|   11|    CHA|  -0.292009006010419|-0.27054562229039314| -0.2826017595416632| -0.2277984862545338|-0.20422931220321408|-0.30207013172410563|-0.21751042488763414| -0.2615607189672732| -0.2505171497646297|-0.20943558616457914|-0.16328325252122247| -0.2919771678360527|        1|[2022.0,11.0,-0.2...|[-447.57996617961...|[4.15422942663278...|       1.0|\n",
            "| 21|2022|   11|    CHO|-0.18593836999372979| -0.2550423138999154|-0.14628548421370535|-0.12220604761756318|-0.20422931220321408|-0.14604651763409626|-0.21751042488763414| -0.2158687462999774|-0.22742723213673757| -0.1740121506188474|-0.16328325252122247| -0.1088539487334251|        1|[2022.0,11.0,-0.1...|[-1378.2430423954...|           [0.0,1.0]|       1.0|\n",
            "| 22|2022|   11|    CHS|-0.09975597823016978| -0.2619559514253987| -0.2826017595416632| 0.10212807673192546|-0.20422931220321408|-0.09375003433200654|   0.090656235710359|-0.15602219514335633| -0.2505171497646297|-0.00706605834391...|-0.16328325252122247|-0.05222731738996919|        1|[2022.0,11.0,-0.0...|[-1871.3732123346...|           [0.0,1.0]|       1.0|\n",
            "| 24|2022|   11|    CLE|-0.10638539298121286|-0.14337659265498742| -0.2826017595416632| 0.03598337932159667|-0.20422931220321408|-0.15158786685815875| 0.39882289630835216|-0.04154393753670767| -0.2505171497646297|  0.1697003923001339|-0.16328325252122247|-0.09492562408846215|        1|[2022.0,11.0,-0.1...|[-2273.7461285223...|           [0.0,1.0]|       1.0|\n",
            "| 25|2022|   11|    CLT|-0.07323831922599747|-0.22131214294225424|-0.13911094340697072|0.039370306598631534|-0.20422931220321408|-0.02084665860293...|-0.21751042488763414|-0.23921138451044374| 0.01197875589982837|-0.03968367721275...|-0.16328325252122247|-0.01249734217318...|        1|[2022.0,11.0,-0.0...|[-2309.5383145480...|           [0.0,1.0]|       1.0|\n",
            "+---+----+-----+-------+--------------------+--------------------+--------------------+--------------------+--------------------+--------------------+--------------------+--------------------+--------------------+--------------------+--------------------+--------------------+---------+--------------------+--------------------+--------------------+----------+\n",
            "only showing top 20 rows\n",
            "\n"
          ]
        }
      ]
    },
    {
      "cell_type": "code",
      "source": [
        "predictions_test.select('prediction').toPandas()"
      ],
      "metadata": {
        "colab": {
          "base_uri": "https://localhost:8080/",
          "height": 423
        },
        "id": "En2ileze5HW1",
        "outputId": "de315fe9-5b2d-4c39-9feb-6dc9bba37a00"
      },
      "execution_count": 87,
      "outputs": [
        {
          "output_type": "execute_result",
          "data": {
            "text/plain": [
              "       prediction\n",
              "0             1.0\n",
              "1             1.0\n",
              "2             1.0\n",
              "3             1.0\n",
              "4             1.0\n",
              "...           ...\n",
              "19431         1.0\n",
              "19432         1.0\n",
              "19433         1.0\n",
              "19434         1.0\n",
              "19435         1.0\n",
              "\n",
              "[19436 rows x 1 columns]"
            ],
            "text/html": [
              "\n",
              "  <div id=\"df-d252f23f-91cf-4ef1-9a18-af4355bc299f\">\n",
              "    <div class=\"colab-df-container\">\n",
              "      <div>\n",
              "<style scoped>\n",
              "    .dataframe tbody tr th:only-of-type {\n",
              "        vertical-align: middle;\n",
              "    }\n",
              "\n",
              "    .dataframe tbody tr th {\n",
              "        vertical-align: top;\n",
              "    }\n",
              "\n",
              "    .dataframe thead th {\n",
              "        text-align: right;\n",
              "    }\n",
              "</style>\n",
              "<table border=\"1\" class=\"dataframe\">\n",
              "  <thead>\n",
              "    <tr style=\"text-align: right;\">\n",
              "      <th></th>\n",
              "      <th>prediction</th>\n",
              "    </tr>\n",
              "  </thead>\n",
              "  <tbody>\n",
              "    <tr>\n",
              "      <th>0</th>\n",
              "      <td>1.0</td>\n",
              "    </tr>\n",
              "    <tr>\n",
              "      <th>1</th>\n",
              "      <td>1.0</td>\n",
              "    </tr>\n",
              "    <tr>\n",
              "      <th>2</th>\n",
              "      <td>1.0</td>\n",
              "    </tr>\n",
              "    <tr>\n",
              "      <th>3</th>\n",
              "      <td>1.0</td>\n",
              "    </tr>\n",
              "    <tr>\n",
              "      <th>4</th>\n",
              "      <td>1.0</td>\n",
              "    </tr>\n",
              "    <tr>\n",
              "      <th>...</th>\n",
              "      <td>...</td>\n",
              "    </tr>\n",
              "    <tr>\n",
              "      <th>19431</th>\n",
              "      <td>1.0</td>\n",
              "    </tr>\n",
              "    <tr>\n",
              "      <th>19432</th>\n",
              "      <td>1.0</td>\n",
              "    </tr>\n",
              "    <tr>\n",
              "      <th>19433</th>\n",
              "      <td>1.0</td>\n",
              "    </tr>\n",
              "    <tr>\n",
              "      <th>19434</th>\n",
              "      <td>1.0</td>\n",
              "    </tr>\n",
              "    <tr>\n",
              "      <th>19435</th>\n",
              "      <td>1.0</td>\n",
              "    </tr>\n",
              "  </tbody>\n",
              "</table>\n",
              "<p>19436 rows × 1 columns</p>\n",
              "</div>\n",
              "      <button class=\"colab-df-convert\" onclick=\"convertToInteractive('df-d252f23f-91cf-4ef1-9a18-af4355bc299f')\"\n",
              "              title=\"Convert this dataframe to an interactive table.\"\n",
              "              style=\"display:none;\">\n",
              "        \n",
              "  <svg xmlns=\"http://www.w3.org/2000/svg\" height=\"24px\"viewBox=\"0 0 24 24\"\n",
              "       width=\"24px\">\n",
              "    <path d=\"M0 0h24v24H0V0z\" fill=\"none\"/>\n",
              "    <path d=\"M18.56 5.44l.94 2.06.94-2.06 2.06-.94-2.06-.94-.94-2.06-.94 2.06-2.06.94zm-11 1L8.5 8.5l.94-2.06 2.06-.94-2.06-.94L8.5 2.5l-.94 2.06-2.06.94zm10 10l.94 2.06.94-2.06 2.06-.94-2.06-.94-.94-2.06-.94 2.06-2.06.94z\"/><path d=\"M17.41 7.96l-1.37-1.37c-.4-.4-.92-.59-1.43-.59-.52 0-1.04.2-1.43.59L10.3 9.45l-7.72 7.72c-.78.78-.78 2.05 0 2.83L4 21.41c.39.39.9.59 1.41.59.51 0 1.02-.2 1.41-.59l7.78-7.78 2.81-2.81c.8-.78.8-2.07 0-2.86zM5.41 20L4 18.59l7.72-7.72 1.47 1.35L5.41 20z\"/>\n",
              "  </svg>\n",
              "      </button>\n",
              "      \n",
              "  <style>\n",
              "    .colab-df-container {\n",
              "      display:flex;\n",
              "      flex-wrap:wrap;\n",
              "      gap: 12px;\n",
              "    }\n",
              "\n",
              "    .colab-df-convert {\n",
              "      background-color: #E8F0FE;\n",
              "      border: none;\n",
              "      border-radius: 50%;\n",
              "      cursor: pointer;\n",
              "      display: none;\n",
              "      fill: #1967D2;\n",
              "      height: 32px;\n",
              "      padding: 0 0 0 0;\n",
              "      width: 32px;\n",
              "    }\n",
              "\n",
              "    .colab-df-convert:hover {\n",
              "      background-color: #E2EBFA;\n",
              "      box-shadow: 0px 1px 2px rgba(60, 64, 67, 0.3), 0px 1px 3px 1px rgba(60, 64, 67, 0.15);\n",
              "      fill: #174EA6;\n",
              "    }\n",
              "\n",
              "    [theme=dark] .colab-df-convert {\n",
              "      background-color: #3B4455;\n",
              "      fill: #D2E3FC;\n",
              "    }\n",
              "\n",
              "    [theme=dark] .colab-df-convert:hover {\n",
              "      background-color: #434B5C;\n",
              "      box-shadow: 0px 1px 3px 1px rgba(0, 0, 0, 0.15);\n",
              "      filter: drop-shadow(0px 1px 2px rgba(0, 0, 0, 0.3));\n",
              "      fill: #FFFFFF;\n",
              "    }\n",
              "  </style>\n",
              "\n",
              "      <script>\n",
              "        const buttonEl =\n",
              "          document.querySelector('#df-d252f23f-91cf-4ef1-9a18-af4355bc299f button.colab-df-convert');\n",
              "        buttonEl.style.display =\n",
              "          google.colab.kernel.accessAllowed ? 'block' : 'none';\n",
              "\n",
              "        async function convertToInteractive(key) {\n",
              "          const element = document.querySelector('#df-d252f23f-91cf-4ef1-9a18-af4355bc299f');\n",
              "          const dataTable =\n",
              "            await google.colab.kernel.invokeFunction('convertToInteractive',\n",
              "                                                     [key], {});\n",
              "          if (!dataTable) return;\n",
              "\n",
              "          const docLinkHtml = 'Like what you see? Visit the ' +\n",
              "            '<a target=\"_blank\" href=https://colab.research.google.com/notebooks/data_table.ipynb>data table notebook</a>'\n",
              "            + ' to learn more about interactive tables.';\n",
              "          element.innerHTML = '';\n",
              "          dataTable['output_type'] = 'display_data';\n",
              "          await google.colab.output.renderOutput(dataTable, element);\n",
              "          const docLink = document.createElement('div');\n",
              "          docLink.innerHTML = docLinkHtml;\n",
              "          element.appendChild(docLink);\n",
              "        }\n",
              "      </script>\n",
              "    </div>\n",
              "  </div>\n",
              "  "
            ]
          },
          "metadata": {},
          "execution_count": 87
        }
      ]
    },
    {
      "cell_type": "code",
      "source": [
        "pred_train=predictions_train.select('prediction').toPandas()\n",
        "pred_test=predictions_test.select('prediction').toPandas()"
      ],
      "metadata": {
        "id": "J4qkz49I5KO9"
      },
      "execution_count": 91,
      "outputs": []
    },
    {
      "cell_type": "code",
      "source": [
        "actual_train= training_data.select('arr_delay').toPandas()\n",
        "actual_test= test_data.select('arr_delay').toPandas()"
      ],
      "metadata": {
        "id": "8oqoFOS45SYW"
      },
      "execution_count": 92,
      "outputs": []
    },
    {
      "cell_type": "code",
      "source": [
        "from sklearn.metrics import accuracy_score\n",
        "\n"
      ],
      "metadata": {
        "id": "p_RyfUIg5lA9"
      },
      "execution_count": 93,
      "outputs": []
    },
    {
      "cell_type": "code",
      "source": [
        "# Evaluate model performance\n",
        "Accuracy_train=accuracy_score(actual_train, pred_train)\n",
        "Accuracy_test=accuracy_score(actual_test, pred_test)\n"
      ],
      "metadata": {
        "id": "g_Mv5MfS5dYW"
      },
      "execution_count": 96,
      "outputs": []
    },
    {
      "cell_type": "code",
      "source": [
        "print(\"Accuracy for test:\", Accuracy_test)\n",
        "print(\"----------------------------------\")\n",
        "print(\"Accuracy for train:\", Accuracy_train)\n"
      ],
      "metadata": {
        "colab": {
          "base_uri": "https://localhost:8080/"
        },
        "id": "8Vyf67zq59W4",
        "outputId": "84822b40-509a-4042-c325-12afa8948473"
      },
      "execution_count": 97,
      "outputs": [
        {
          "output_type": "stream",
          "name": "stdout",
          "text": [
            "Accuracy for test: 1.0\n",
            "----------------------------------\n",
            "Accuracy for train: 1.0\n"
          ]
        }
      ]
    },
    {
      "cell_type": "code",
      "source": [],
      "metadata": {
        "id": "5Us8sqGI6oMz"
      },
      "execution_count": null,
      "outputs": []
    }
  ]
}