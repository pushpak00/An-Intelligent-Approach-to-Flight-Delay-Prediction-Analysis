{
  "nbformat": 4,
  "nbformat_minor": 0,
  "metadata": {
    "colab": {
      "provenance": []
    },
    "kernelspec": {
      "name": "python3",
      "display_name": "Python 3"
    },
    "language_info": {
      "name": "python"
    }
  },
  "cells": [
    {
      "cell_type": "code",
      "execution_count": 1,
      "metadata": {
        "colab": {
          "base_uri": "https://localhost:8080/"
        },
        "id": "JtLmPHcHJnhf",
        "outputId": "a1742e26-4794-42ef-8b76-704ad1a9e499"
      },
      "outputs": [
        {
          "output_type": "stream",
          "name": "stdout",
          "text": [
            "Mounted at /content/drive\n"
          ]
        }
      ],
      "source": [
        "from google.colab import drive\n",
        "drive.mount('/content/drive')"
      ]
    },
    {
      "cell_type": "code",
      "source": [
        "!pip install pyspark"
      ],
      "metadata": {
        "colab": {
          "base_uri": "https://localhost:8080/"
        },
        "id": "G5dQgmXmzSnO",
        "outputId": "bb44368a-3f1b-4012-cfe7-704daaf4dfac"
      },
      "execution_count": 2,
      "outputs": [
        {
          "output_type": "stream",
          "name": "stdout",
          "text": [
            "Looking in indexes: https://pypi.org/simple, https://us-python.pkg.dev/colab-wheels/public/simple/\n",
            "Collecting pyspark\n",
            "  Downloading pyspark-3.3.2.tar.gz (281.4 MB)\n",
            "\u001b[2K     \u001b[90m━━━━━━━━━━━━━━━━━━━━━━━━━━━━━━━━━━━━━━━\u001b[0m \u001b[32m281.4/281.4 MB\u001b[0m \u001b[31m5.3 MB/s\u001b[0m eta \u001b[36m0:00:00\u001b[0m\n",
            "\u001b[?25h  Preparing metadata (setup.py) ... \u001b[?25l\u001b[?25hdone\n",
            "Collecting py4j==0.10.9.5\n",
            "  Downloading py4j-0.10.9.5-py2.py3-none-any.whl (199 kB)\n",
            "\u001b[2K     \u001b[90m━━━━━━━━━━━━━━━━━━━━━━━━━━━━━━━━━━━━━━\u001b[0m \u001b[32m199.7/199.7 KB\u001b[0m \u001b[31m22.7 MB/s\u001b[0m eta \u001b[36m0:00:00\u001b[0m\n",
            "\u001b[?25hBuilding wheels for collected packages: pyspark\n",
            "  Building wheel for pyspark (setup.py) ... \u001b[?25l\u001b[?25hdone\n",
            "  Created wheel for pyspark: filename=pyspark-3.3.2-py2.py3-none-any.whl size=281824025 sha256=4ebfd4775b591e3ec9dcf51cdf7338c0034fac43ca2bdaf8b5f2a1a3ca27ecdc\n",
            "  Stored in directory: /root/.cache/pip/wheels/6c/e3/9b/0525ce8a69478916513509d43693511463c6468db0de237c86\n",
            "Successfully built pyspark\n",
            "Installing collected packages: py4j, pyspark\n",
            "Successfully installed py4j-0.10.9.5 pyspark-3.3.2\n"
          ]
        }
      ]
    },
    {
      "cell_type": "code",
      "source": [
        "from pyspark.sql import SparkSession"
      ],
      "metadata": {
        "id": "avsnLdKFJtUx"
      },
      "execution_count": 4,
      "outputs": []
    },
    {
      "cell_type": "code",
      "source": [
        "spark=SparkSession.builder.master('local[4]').appName('project').getOrCreate()"
      ],
      "metadata": {
        "id": "6AiYDHiR--eR"
      },
      "execution_count": 5,
      "outputs": []
    },
    {
      "cell_type": "code",
      "source": [
        "# Load data\n",
        "df=spark.read.csv('/content/drive/MyDrive/Project_knowit/finalclassification.csv',header=True,inferSchema=True)"
      ],
      "metadata": {
        "id": "CET3LYLX_Kq_"
      },
      "execution_count": 6,
      "outputs": []
    },
    {
      "cell_type": "code",
      "source": [
        "df"
      ],
      "metadata": {
        "colab": {
          "base_uri": "https://localhost:8080/"
        },
        "id": "fsa6Lt6zBJBz",
        "outputId": "a4ad032a-eaad-4582-8c0b-5157298c0056"
      },
      "execution_count": 7,
      "outputs": [
        {
          "output_type": "execute_result",
          "data": {
            "text/plain": [
              "DataFrame[_c0: int, year: int, month: int, airport: string, arr_del15: double, carrier_ct: double, weather_ct: double, nas_ct: double, security_ct: double, late_aircraft_ct: double, arr_diverted: double, carrier_delay: double, weather_delay: double, nas_delay: double, security_delay: double, late_aircraft_delay: double, arr_delay: int]"
            ]
          },
          "metadata": {},
          "execution_count": 7
        }
      ]
    },
    {
      "cell_type": "code",
      "source": [
        "df.count()"
      ],
      "metadata": {
        "colab": {
          "base_uri": "https://localhost:8080/"
        },
        "id": "xlu5m7J4BVOr",
        "outputId": "ee2c47bf-d76a-4527-8ea4-712df500d988"
      },
      "execution_count": 8,
      "outputs": [
        {
          "output_type": "execute_result",
          "data": {
            "text/plain": [
              "78439"
            ]
          },
          "metadata": {},
          "execution_count": 8
        }
      ]
    },
    {
      "cell_type": "code",
      "source": [
        "df.show(5)"
      ],
      "metadata": {
        "colab": {
          "base_uri": "https://localhost:8080/"
        },
        "id": "nKfctjm81kur",
        "outputId": "2a6a0e96-bd68-422d-fccd-bfb86b378e11"
      },
      "execution_count": 9,
      "outputs": [
        {
          "output_type": "stream",
          "name": "stdout",
          "text": [
            "+---+----+-----+-------+--------------------+--------------------+--------------------+--------------------+--------------------+--------------------+--------------------+--------------------+--------------------+--------------------+--------------------+--------------------+---------+\n",
            "|_c0|year|month|airport|           arr_del15|          carrier_ct|          weather_ct|              nas_ct|         security_ct|    late_aircraft_ct|        arr_diverted|       carrier_delay|       weather_delay|           nas_delay|      security_delay| late_aircraft_delay|arr_delay|\n",
            "+---+----+-----+-------+--------------------+--------------------+--------------------+--------------------+--------------------+--------------------+--------------------+--------------------+--------------------+--------------------+--------------------+--------------------+---------+\n",
            "|  0|2022|   11|    ABY| -0.3317854945166775|-0.37592621851215446|-0.17641855560199077| -0.2618669900411791|-0.20422931220321408|-0.30207013172410563|-0.21751042488763414|-0.31942066261662055| -0.2189204203790931| -0.2322328466643075|-0.16328325252122247| -0.2919771678360527|        1|\n",
            "|  1|2022|   11|    AEX|-0.31189725026354825| -0.3388439808754711| -0.2826017595416632|-0.24831928093303945|-0.20422931220321408| -0.2797315676646038|-0.21751042488763414| -0.2752186455797801| -0.2505171497646297|-0.21785303619524807|-0.16328325252122247|-0.28215884062730834|        1|\n",
            "|  2|2022|   11|    AGS|-0.33841490926772055|-0.37571671434471554| -0.2826017595416632|-0.28697009809449664|-0.20422931220321408|-0.28492658256216236|-0.21751042488763414| -0.3191723366782113| -0.2505171497646297|-0.24205320503342123|-0.16328325252122247|-0.26526218450063194|        1|\n",
            "|  3|2022|   11|    ALB|-0.24560310275311747| -0.2688695889508821| -0.2826017595416632|-0.23337695471082662|-0.20422931220321408| -0.1773897741826997|-0.21751042488763414|-0.23647979918794235| -0.2505171497646297|-0.22030812578752648|-0.16328325252122247| -0.0924139589885508|        1|\n",
            "|  4|2022|   11|    ATL| 0.41070895760014714| 0.22472222953514107| 0.04168748492274184|  0.4555638996413329|-0.20422931220321408|  0.4910354759698377|   0.090656235710359|  1.0342040276520168|-0.09496402048198788| 0.13357550258517975|-0.16328325252122247|  0.6725022305299061|        1|\n",
            "+---+----+-----+-------+--------------------+--------------------+--------------------+--------------------+--------------------+--------------------+--------------------+--------------------+--------------------+--------------------+--------------------+--------------------+---------+\n",
            "only showing top 5 rows\n",
            "\n"
          ]
        }
      ]
    },
    {
      "cell_type": "code",
      "source": [
        "df.summary().show()"
      ],
      "metadata": {
        "colab": {
          "base_uri": "https://localhost:8080/"
        },
        "id": "aIqGBKaq1nvs",
        "outputId": "763b717e-f66e-4e9b-e349-66d250b3c514"
      },
      "execution_count": 10,
      "outputs": [
        {
          "output_type": "stream",
          "name": "stdout",
          "text": [
            "+-------+------------------+-----------------+------------------+-------+--------------------+--------------------+--------------------+--------------------+--------------------+--------------------+--------------------+--------------------+-------------------+--------------------+--------------------+--------------------+-------------------+\n",
            "|summary|               _c0|             year|             month|airport|           arr_del15|          carrier_ct|          weather_ct|              nas_ct|         security_ct|    late_aircraft_ct|        arr_diverted|       carrier_delay|      weather_delay|           nas_delay|      security_delay| late_aircraft_delay|          arr_delay|\n",
            "+-------+------------------+-----------------+------------------+-------+--------------------+--------------------+--------------------+--------------------+--------------------+--------------------+--------------------+--------------------+-------------------+--------------------+--------------------+--------------------+-------------------+\n",
            "|  count|             78439|            78439|             78439|  78439|               78439|               78439|               78439|               78439|               78439|               78439|               78439|               78439|              78439|               78439|               78439|               78439|              78439|\n",
            "|   mean|           39219.0|2020.463646910338|  6.37525975598873|   null|-4.04807988062664...|-1.19355309047477...|5.344537973437437...|-1.80011285776523...|-4.13823046013791...|-1.76967616693345...|-3.54370043255716...|-3.02772605464699...|4.4321619315991E-15|-3.20020063602708...|-1.02665856908051...|3.523409305335975...| 0.9425668353752598|\n",
            "| stddev|22643.533219589797|1.122078092798371|3.4034478648355804|   null|   1.000006374441041|  1.0000063744410417|  1.0000063744410417|   1.000006374441041|   1.000006374441042|  1.0000063744410417|  1.0000063744410412|  1.0000063744410415| 1.0000063744410408|  1.0000063744410423|   1.000006374441041|  1.0000063744410417|0.23266990863390855|\n",
            "|    min|                 0|             2019|                 1|    ABE| -0.3450443240187636|-0.37592621851215446| -0.2826017595416632|-0.28697009809449664|-0.20422931220321408|-0.30207013172410563|-0.21751042488763414|-0.31942066261662055|-0.2505171497646297|-0.24205320503342123|-0.16328325252122247| -0.2919771678360527|                  0|\n",
            "|    25%|             19604|             2019|                 3|   null|-0.31189725026354825| -0.3403105100475433| -0.2826017595416632|-0.27621162321450343|-0.20422931220321408| -0.2876972571741936|-0.21751042488763414|-0.30079621723592936|-0.2505171497646297|-0.23609084459503074|-0.16328325252122247|-0.28581217168172485|                  1|\n",
            "|    50%|             39222|             2020|                 6|   null|-0.25886193225520365|-0.27117413479270985| -0.2610781371214594| -0.2321815686130496|-0.20422931220321408| -0.2461371379937249|-0.21751042488763414|-0.24815111829317552|-0.2407950791844646| -0.2069804965723007|-0.16328325252122247|-0.24471219731953908|                  1|\n",
            "|    75%|             58830|             2021|                 9|   null|-0.10638539298121286|-0.08345840076746507|-0.05588627004884904|-0.11901835135682444|-0.20422931220321408|-0.11522276257524869|-0.21751042488763414|-0.08847753989604952|-0.0986097969495498| -0.1228059962656114|-0.16328325252122247|-0.11227894659694058|                  1|\n",
            "|    max|             78438|             2022|                12|    YUM|  24.276602061355227|  23.654201786728443|   32.14632268689885|   29.31517276522319|   73.59716218414432|  26.223849102373258|   47.24015530720331|  29.336904531904022|  33.62603778682071|  33.877729767198474|   79.82949456981284|   32.40350910366451|                  1|\n",
            "+-------+------------------+-----------------+------------------+-------+--------------------+--------------------+--------------------+--------------------+--------------------+--------------------+--------------------+--------------------+-------------------+--------------------+--------------------+--------------------+-------------------+\n",
            "\n"
          ]
        }
      ]
    },
    {
      "cell_type": "code",
      "source": [
        "pdf = df.toPandas()"
      ],
      "metadata": {
        "id": "U2SbXggc1p78"
      },
      "execution_count": 11,
      "outputs": []
    },
    {
      "cell_type": "code",
      "source": [
        "pdf.info()"
      ],
      "metadata": {
        "colab": {
          "base_uri": "https://localhost:8080/"
        },
        "id": "8_yLAoHP1sLM",
        "outputId": "e26cb046-9b3e-44a3-9519-1633c90d31c9"
      },
      "execution_count": 12,
      "outputs": [
        {
          "output_type": "stream",
          "name": "stdout",
          "text": [
            "<class 'pandas.core.frame.DataFrame'>\n",
            "RangeIndex: 78439 entries, 0 to 78438\n",
            "Data columns (total 17 columns):\n",
            " #   Column               Non-Null Count  Dtype  \n",
            "---  ------               --------------  -----  \n",
            " 0   _c0                  78439 non-null  int32  \n",
            " 1   year                 78439 non-null  int32  \n",
            " 2   month                78439 non-null  int32  \n",
            " 3   airport              78439 non-null  object \n",
            " 4   arr_del15            78439 non-null  float64\n",
            " 5   carrier_ct           78439 non-null  float64\n",
            " 6   weather_ct           78439 non-null  float64\n",
            " 7   nas_ct               78439 non-null  float64\n",
            " 8   security_ct          78439 non-null  float64\n",
            " 9   late_aircraft_ct     78439 non-null  float64\n",
            " 10  arr_diverted         78439 non-null  float64\n",
            " 11  carrier_delay        78439 non-null  float64\n",
            " 12  weather_delay        78439 non-null  float64\n",
            " 13  nas_delay            78439 non-null  float64\n",
            " 14  security_delay       78439 non-null  float64\n",
            " 15  late_aircraft_delay  78439 non-null  float64\n",
            " 16  arr_delay            78439 non-null  int32  \n",
            "dtypes: float64(12), int32(4), object(1)\n",
            "memory usage: 9.0+ MB\n"
          ]
        }
      ]
    },
    {
      "cell_type": "code",
      "source": [
        "df.groupby('arr_delay').count().show()"
      ],
      "metadata": {
        "colab": {
          "base_uri": "https://localhost:8080/"
        },
        "id": "d5iROq_81tzr",
        "outputId": "d3c72e5d-40b4-41ee-ef7a-e3590a0f1448"
      },
      "execution_count": 13,
      "outputs": [
        {
          "output_type": "stream",
          "name": "stdout",
          "text": [
            "+---------+-----+\n",
            "|arr_delay|count|\n",
            "+---------+-----+\n",
            "|        1|73934|\n",
            "|        0| 4505|\n",
            "+---------+-----+\n",
            "\n"
          ]
        }
      ]
    },
    {
      "cell_type": "code",
      "source": [
        "pdf['arr_delay'].value_counts()"
      ],
      "metadata": {
        "colab": {
          "base_uri": "https://localhost:8080/"
        },
        "id": "0Qtfhwve1wDK",
        "outputId": "e14a6323-7036-4379-a3ed-0c5b6acbbc0d"
      },
      "execution_count": 14,
      "outputs": [
        {
          "output_type": "execute_result",
          "data": {
            "text/plain": [
              "1    73934\n",
              "0     4505\n",
              "Name: arr_delay, dtype: int64"
            ]
          },
          "metadata": {},
          "execution_count": 14
        }
      ]
    },
    {
      "cell_type": "code",
      "source": [
        "pdf.isnull().sum()"
      ],
      "metadata": {
        "colab": {
          "base_uri": "https://localhost:8080/"
        },
        "id": "cVpJt1JR2OqQ",
        "outputId": "e8ea8aed-c0cf-4acc-ac38-7088aa5fea06"
      },
      "execution_count": 15,
      "outputs": [
        {
          "output_type": "execute_result",
          "data": {
            "text/plain": [
              "_c0                    0\n",
              "year                   0\n",
              "month                  0\n",
              "airport                0\n",
              "arr_del15              0\n",
              "carrier_ct             0\n",
              "weather_ct             0\n",
              "nas_ct                 0\n",
              "security_ct            0\n",
              "late_aircraft_ct       0\n",
              "arr_diverted           0\n",
              "carrier_delay          0\n",
              "weather_delay          0\n",
              "nas_delay              0\n",
              "security_delay         0\n",
              "late_aircraft_delay    0\n",
              "arr_delay              0\n",
              "dtype: int64"
            ]
          },
          "metadata": {},
          "execution_count": 15
        }
      ]
    },
    {
      "cell_type": "code",
      "source": [
        "from pyspark.sql.functions import isnull,when,count,col"
      ],
      "metadata": {
        "id": "4em4_95T2UYC"
      },
      "execution_count": 16,
      "outputs": []
    },
    {
      "cell_type": "code",
      "source": [
        "\n",
        "df.select([count(when(isnull(c),c)).alias(c) for c in df.columns]).show()"
      ],
      "metadata": {
        "colab": {
          "base_uri": "https://localhost:8080/"
        },
        "id": "uPMUqb9X2Wyu",
        "outputId": "2934e62e-cca0-413b-b669-695d91b99cf3"
      },
      "execution_count": 17,
      "outputs": [
        {
          "output_type": "stream",
          "name": "stdout",
          "text": [
            "+---+----+-----+-------+---------+----------+----------+------+-----------+----------------+------------+-------------+-------------+---------+--------------+-------------------+---------+\n",
            "|_c0|year|month|airport|arr_del15|carrier_ct|weather_ct|nas_ct|security_ct|late_aircraft_ct|arr_diverted|carrier_delay|weather_delay|nas_delay|security_delay|late_aircraft_delay|arr_delay|\n",
            "+---+----+-----+-------+---------+----------+----------+------+-----------+----------------+------------+-------------+-------------+---------+--------------+-------------------+---------+\n",
            "|  0|   0|    0|      0|        0|         0|         0|     0|          0|               0|           0|            0|            0|        0|             0|                  0|        0|\n",
            "+---+----+-----+-------+---------+----------+----------+------+-----------+----------------+------------+-------------+-------------+---------+--------------+-------------------+---------+\n",
            "\n"
          ]
        }
      ]
    },
    {
      "cell_type": "code",
      "source": [
        "# Prepare features and label\n",
        "required_features =['year','month','arr_del15','carrier_ct','weather_ct','nas_ct','security_ct','late_aircraft_ct','arr_diverted','carrier_delay','weather_delay','nas_delay','security_delay','late_aircraft_delay']"
      ],
      "metadata": {
        "id": "w4oMGKSAaj9Y"
      },
      "execution_count": 18,
      "outputs": []
    },
    {
      "cell_type": "code",
      "source": [
        "pdf[required_features]"
      ],
      "metadata": {
        "colab": {
          "base_uri": "https://localhost:8080/",
          "height": 487
        },
        "id": "WMFJIIaT0GAm",
        "outputId": "bb5033aa-2e84-44fb-8154-a353d26d3b30"
      },
      "execution_count": 19,
      "outputs": [
        {
          "output_type": "execute_result",
          "data": {
            "text/plain": [
              "       year  month  arr_del15  carrier_ct  weather_ct    nas_ct  security_ct  \\\n",
              "0      2022     11  -0.331785   -0.375926   -0.176419 -0.261867    -0.204229   \n",
              "1      2022     11  -0.311897   -0.338844   -0.282602 -0.248319    -0.204229   \n",
              "2      2022     11  -0.338415   -0.375717   -0.282602 -0.286970    -0.204229   \n",
              "3      2022     11  -0.245603   -0.268870   -0.282602 -0.233377    -0.204229   \n",
              "4      2022     11   0.410709    0.224722    0.041687  0.455564    -0.204229   \n",
              "...     ...    ...        ...         ...         ...       ...          ...   \n",
              "78434  2019      1   0.105756   -0.122007   -0.014274  0.071048    -0.204229   \n",
              "78435  2019      1  -0.252233   -0.318522   -0.183593 -0.237959    -0.204229   \n",
              "78436  2019      1  -0.172680   -0.278088    0.041687 -0.051678    -0.204229   \n",
              "78437  2019      1  -0.113015   -0.232835    0.710355 -0.057854    -0.204229   \n",
              "78438  2019      1  -0.318527   -0.351624   -0.190768 -0.248718    -0.204229   \n",
              "\n",
              "       late_aircraft_ct  arr_diverted  carrier_delay  weather_delay  \\\n",
              "0             -0.302070     -0.217510      -0.319421      -0.218920   \n",
              "1             -0.279732     -0.217510      -0.275219      -0.250517   \n",
              "2             -0.284927     -0.217510      -0.319172      -0.250517   \n",
              "3             -0.177390     -0.217510      -0.236480      -0.250517   \n",
              "4              0.491035      0.090656       1.034204      -0.094964   \n",
              "...                 ...           ...            ...            ...   \n",
              "78434          0.322024     -0.217510      -0.169680      -0.012326   \n",
              "78435         -0.161632      0.090656      -0.239211      -0.212844   \n",
              "78436         -0.176351     -0.217510      -0.241695      -0.130207   \n",
              "78437         -0.133232     -0.217510      -0.201714       0.518742   \n",
              "78438         -0.297048     -0.217510      -0.307004      -0.233504   \n",
              "\n",
              "       nas_delay  security_delay  late_aircraft_delay  \n",
              "0      -0.232233       -0.163283            -0.291977  \n",
              "1      -0.217853       -0.163283            -0.282159  \n",
              "2      -0.242053       -0.163283            -0.265262  \n",
              "3      -0.220308       -0.163283            -0.092414  \n",
              "4       0.133576       -0.163283             0.672502  \n",
              "...          ...             ...                  ...  \n",
              "78434   0.031514       -0.163283             0.292327  \n",
              "78435  -0.202772       -0.163283            -0.232611  \n",
              "78436  -0.072301       -0.163283            -0.209092  \n",
              "78437  -0.058623       -0.163283            -0.137396  \n",
              "78438  -0.227673       -0.163283            -0.288552  \n",
              "\n",
              "[78439 rows x 14 columns]"
            ],
            "text/html": [
              "\n",
              "  <div id=\"df-a08ea8d1-1f27-4997-b687-ecd4311b3381\">\n",
              "    <div class=\"colab-df-container\">\n",
              "      <div>\n",
              "<style scoped>\n",
              "    .dataframe tbody tr th:only-of-type {\n",
              "        vertical-align: middle;\n",
              "    }\n",
              "\n",
              "    .dataframe tbody tr th {\n",
              "        vertical-align: top;\n",
              "    }\n",
              "\n",
              "    .dataframe thead th {\n",
              "        text-align: right;\n",
              "    }\n",
              "</style>\n",
              "<table border=\"1\" class=\"dataframe\">\n",
              "  <thead>\n",
              "    <tr style=\"text-align: right;\">\n",
              "      <th></th>\n",
              "      <th>year</th>\n",
              "      <th>month</th>\n",
              "      <th>arr_del15</th>\n",
              "      <th>carrier_ct</th>\n",
              "      <th>weather_ct</th>\n",
              "      <th>nas_ct</th>\n",
              "      <th>security_ct</th>\n",
              "      <th>late_aircraft_ct</th>\n",
              "      <th>arr_diverted</th>\n",
              "      <th>carrier_delay</th>\n",
              "      <th>weather_delay</th>\n",
              "      <th>nas_delay</th>\n",
              "      <th>security_delay</th>\n",
              "      <th>late_aircraft_delay</th>\n",
              "    </tr>\n",
              "  </thead>\n",
              "  <tbody>\n",
              "    <tr>\n",
              "      <th>0</th>\n",
              "      <td>2022</td>\n",
              "      <td>11</td>\n",
              "      <td>-0.331785</td>\n",
              "      <td>-0.375926</td>\n",
              "      <td>-0.176419</td>\n",
              "      <td>-0.261867</td>\n",
              "      <td>-0.204229</td>\n",
              "      <td>-0.302070</td>\n",
              "      <td>-0.217510</td>\n",
              "      <td>-0.319421</td>\n",
              "      <td>-0.218920</td>\n",
              "      <td>-0.232233</td>\n",
              "      <td>-0.163283</td>\n",
              "      <td>-0.291977</td>\n",
              "    </tr>\n",
              "    <tr>\n",
              "      <th>1</th>\n",
              "      <td>2022</td>\n",
              "      <td>11</td>\n",
              "      <td>-0.311897</td>\n",
              "      <td>-0.338844</td>\n",
              "      <td>-0.282602</td>\n",
              "      <td>-0.248319</td>\n",
              "      <td>-0.204229</td>\n",
              "      <td>-0.279732</td>\n",
              "      <td>-0.217510</td>\n",
              "      <td>-0.275219</td>\n",
              "      <td>-0.250517</td>\n",
              "      <td>-0.217853</td>\n",
              "      <td>-0.163283</td>\n",
              "      <td>-0.282159</td>\n",
              "    </tr>\n",
              "    <tr>\n",
              "      <th>2</th>\n",
              "      <td>2022</td>\n",
              "      <td>11</td>\n",
              "      <td>-0.338415</td>\n",
              "      <td>-0.375717</td>\n",
              "      <td>-0.282602</td>\n",
              "      <td>-0.286970</td>\n",
              "      <td>-0.204229</td>\n",
              "      <td>-0.284927</td>\n",
              "      <td>-0.217510</td>\n",
              "      <td>-0.319172</td>\n",
              "      <td>-0.250517</td>\n",
              "      <td>-0.242053</td>\n",
              "      <td>-0.163283</td>\n",
              "      <td>-0.265262</td>\n",
              "    </tr>\n",
              "    <tr>\n",
              "      <th>3</th>\n",
              "      <td>2022</td>\n",
              "      <td>11</td>\n",
              "      <td>-0.245603</td>\n",
              "      <td>-0.268870</td>\n",
              "      <td>-0.282602</td>\n",
              "      <td>-0.233377</td>\n",
              "      <td>-0.204229</td>\n",
              "      <td>-0.177390</td>\n",
              "      <td>-0.217510</td>\n",
              "      <td>-0.236480</td>\n",
              "      <td>-0.250517</td>\n",
              "      <td>-0.220308</td>\n",
              "      <td>-0.163283</td>\n",
              "      <td>-0.092414</td>\n",
              "    </tr>\n",
              "    <tr>\n",
              "      <th>4</th>\n",
              "      <td>2022</td>\n",
              "      <td>11</td>\n",
              "      <td>0.410709</td>\n",
              "      <td>0.224722</td>\n",
              "      <td>0.041687</td>\n",
              "      <td>0.455564</td>\n",
              "      <td>-0.204229</td>\n",
              "      <td>0.491035</td>\n",
              "      <td>0.090656</td>\n",
              "      <td>1.034204</td>\n",
              "      <td>-0.094964</td>\n",
              "      <td>0.133576</td>\n",
              "      <td>-0.163283</td>\n",
              "      <td>0.672502</td>\n",
              "    </tr>\n",
              "    <tr>\n",
              "      <th>...</th>\n",
              "      <td>...</td>\n",
              "      <td>...</td>\n",
              "      <td>...</td>\n",
              "      <td>...</td>\n",
              "      <td>...</td>\n",
              "      <td>...</td>\n",
              "      <td>...</td>\n",
              "      <td>...</td>\n",
              "      <td>...</td>\n",
              "      <td>...</td>\n",
              "      <td>...</td>\n",
              "      <td>...</td>\n",
              "      <td>...</td>\n",
              "      <td>...</td>\n",
              "    </tr>\n",
              "    <tr>\n",
              "      <th>78434</th>\n",
              "      <td>2019</td>\n",
              "      <td>1</td>\n",
              "      <td>0.105756</td>\n",
              "      <td>-0.122007</td>\n",
              "      <td>-0.014274</td>\n",
              "      <td>0.071048</td>\n",
              "      <td>-0.204229</td>\n",
              "      <td>0.322024</td>\n",
              "      <td>-0.217510</td>\n",
              "      <td>-0.169680</td>\n",
              "      <td>-0.012326</td>\n",
              "      <td>0.031514</td>\n",
              "      <td>-0.163283</td>\n",
              "      <td>0.292327</td>\n",
              "    </tr>\n",
              "    <tr>\n",
              "      <th>78435</th>\n",
              "      <td>2019</td>\n",
              "      <td>1</td>\n",
              "      <td>-0.252233</td>\n",
              "      <td>-0.318522</td>\n",
              "      <td>-0.183593</td>\n",
              "      <td>-0.237959</td>\n",
              "      <td>-0.204229</td>\n",
              "      <td>-0.161632</td>\n",
              "      <td>0.090656</td>\n",
              "      <td>-0.239211</td>\n",
              "      <td>-0.212844</td>\n",
              "      <td>-0.202772</td>\n",
              "      <td>-0.163283</td>\n",
              "      <td>-0.232611</td>\n",
              "    </tr>\n",
              "    <tr>\n",
              "      <th>78436</th>\n",
              "      <td>2019</td>\n",
              "      <td>1</td>\n",
              "      <td>-0.172680</td>\n",
              "      <td>-0.278088</td>\n",
              "      <td>0.041687</td>\n",
              "      <td>-0.051678</td>\n",
              "      <td>-0.204229</td>\n",
              "      <td>-0.176351</td>\n",
              "      <td>-0.217510</td>\n",
              "      <td>-0.241695</td>\n",
              "      <td>-0.130207</td>\n",
              "      <td>-0.072301</td>\n",
              "      <td>-0.163283</td>\n",
              "      <td>-0.209092</td>\n",
              "    </tr>\n",
              "    <tr>\n",
              "      <th>78437</th>\n",
              "      <td>2019</td>\n",
              "      <td>1</td>\n",
              "      <td>-0.113015</td>\n",
              "      <td>-0.232835</td>\n",
              "      <td>0.710355</td>\n",
              "      <td>-0.057854</td>\n",
              "      <td>-0.204229</td>\n",
              "      <td>-0.133232</td>\n",
              "      <td>-0.217510</td>\n",
              "      <td>-0.201714</td>\n",
              "      <td>0.518742</td>\n",
              "      <td>-0.058623</td>\n",
              "      <td>-0.163283</td>\n",
              "      <td>-0.137396</td>\n",
              "    </tr>\n",
              "    <tr>\n",
              "      <th>78438</th>\n",
              "      <td>2019</td>\n",
              "      <td>1</td>\n",
              "      <td>-0.318527</td>\n",
              "      <td>-0.351624</td>\n",
              "      <td>-0.190768</td>\n",
              "      <td>-0.248718</td>\n",
              "      <td>-0.204229</td>\n",
              "      <td>-0.297048</td>\n",
              "      <td>-0.217510</td>\n",
              "      <td>-0.307004</td>\n",
              "      <td>-0.233504</td>\n",
              "      <td>-0.227673</td>\n",
              "      <td>-0.163283</td>\n",
              "      <td>-0.288552</td>\n",
              "    </tr>\n",
              "  </tbody>\n",
              "</table>\n",
              "<p>78439 rows × 14 columns</p>\n",
              "</div>\n",
              "      <button class=\"colab-df-convert\" onclick=\"convertToInteractive('df-a08ea8d1-1f27-4997-b687-ecd4311b3381')\"\n",
              "              title=\"Convert this dataframe to an interactive table.\"\n",
              "              style=\"display:none;\">\n",
              "        \n",
              "  <svg xmlns=\"http://www.w3.org/2000/svg\" height=\"24px\"viewBox=\"0 0 24 24\"\n",
              "       width=\"24px\">\n",
              "    <path d=\"M0 0h24v24H0V0z\" fill=\"none\"/>\n",
              "    <path d=\"M18.56 5.44l.94 2.06.94-2.06 2.06-.94-2.06-.94-.94-2.06-.94 2.06-2.06.94zm-11 1L8.5 8.5l.94-2.06 2.06-.94-2.06-.94L8.5 2.5l-.94 2.06-2.06.94zm10 10l.94 2.06.94-2.06 2.06-.94-2.06-.94-.94-2.06-.94 2.06-2.06.94z\"/><path d=\"M17.41 7.96l-1.37-1.37c-.4-.4-.92-.59-1.43-.59-.52 0-1.04.2-1.43.59L10.3 9.45l-7.72 7.72c-.78.78-.78 2.05 0 2.83L4 21.41c.39.39.9.59 1.41.59.51 0 1.02-.2 1.41-.59l7.78-7.78 2.81-2.81c.8-.78.8-2.07 0-2.86zM5.41 20L4 18.59l7.72-7.72 1.47 1.35L5.41 20z\"/>\n",
              "  </svg>\n",
              "      </button>\n",
              "      \n",
              "  <style>\n",
              "    .colab-df-container {\n",
              "      display:flex;\n",
              "      flex-wrap:wrap;\n",
              "      gap: 12px;\n",
              "    }\n",
              "\n",
              "    .colab-df-convert {\n",
              "      background-color: #E8F0FE;\n",
              "      border: none;\n",
              "      border-radius: 50%;\n",
              "      cursor: pointer;\n",
              "      display: none;\n",
              "      fill: #1967D2;\n",
              "      height: 32px;\n",
              "      padding: 0 0 0 0;\n",
              "      width: 32px;\n",
              "    }\n",
              "\n",
              "    .colab-df-convert:hover {\n",
              "      background-color: #E2EBFA;\n",
              "      box-shadow: 0px 1px 2px rgba(60, 64, 67, 0.3), 0px 1px 3px 1px rgba(60, 64, 67, 0.15);\n",
              "      fill: #174EA6;\n",
              "    }\n",
              "\n",
              "    [theme=dark] .colab-df-convert {\n",
              "      background-color: #3B4455;\n",
              "      fill: #D2E3FC;\n",
              "    }\n",
              "\n",
              "    [theme=dark] .colab-df-convert:hover {\n",
              "      background-color: #434B5C;\n",
              "      box-shadow: 0px 1px 3px 1px rgba(0, 0, 0, 0.15);\n",
              "      filter: drop-shadow(0px 1px 2px rgba(0, 0, 0, 0.3));\n",
              "      fill: #FFFFFF;\n",
              "    }\n",
              "  </style>\n",
              "\n",
              "      <script>\n",
              "        const buttonEl =\n",
              "          document.querySelector('#df-a08ea8d1-1f27-4997-b687-ecd4311b3381 button.colab-df-convert');\n",
              "        buttonEl.style.display =\n",
              "          google.colab.kernel.accessAllowed ? 'block' : 'none';\n",
              "\n",
              "        async function convertToInteractive(key) {\n",
              "          const element = document.querySelector('#df-a08ea8d1-1f27-4997-b687-ecd4311b3381');\n",
              "          const dataTable =\n",
              "            await google.colab.kernel.invokeFunction('convertToInteractive',\n",
              "                                                     [key], {});\n",
              "          if (!dataTable) return;\n",
              "\n",
              "          const docLinkHtml = 'Like what you see? Visit the ' +\n",
              "            '<a target=\"_blank\" href=https://colab.research.google.com/notebooks/data_table.ipynb>data table notebook</a>'\n",
              "            + ' to learn more about interactive tables.';\n",
              "          element.innerHTML = '';\n",
              "          dataTable['output_type'] = 'display_data';\n",
              "          await google.colab.output.renderOutput(dataTable, element);\n",
              "          const docLink = document.createElement('div');\n",
              "          docLink.innerHTML = docLinkHtml;\n",
              "          element.appendChild(docLink);\n",
              "        }\n",
              "      </script>\n",
              "    </div>\n",
              "  </div>\n",
              "  "
            ]
          },
          "metadata": {},
          "execution_count": 19
        }
      ]
    },
    {
      "cell_type": "code",
      "source": [
        "# Import PySpark libraries\n",
        "from pyspark.ml.feature import VectorAssembler"
      ],
      "metadata": {
        "id": "w9-eOJAD2zP9"
      },
      "execution_count": 20,
      "outputs": []
    },
    {
      "cell_type": "code",
      "source": [
        "\n",
        "assembler= VectorAssembler(inputCols=required_features,\n",
        "                           outputCol='features')"
      ],
      "metadata": {
        "id": "agmtpT8w23UZ"
      },
      "execution_count": 21,
      "outputs": []
    },
    {
      "cell_type": "code",
      "source": [
        "transformed_data=assembler.transform(df)"
      ],
      "metadata": {
        "id": "6afZU9lq297j"
      },
      "execution_count": 22,
      "outputs": []
    },
    {
      "cell_type": "code",
      "source": [
        "transformed_data.show(5)"
      ],
      "metadata": {
        "colab": {
          "base_uri": "https://localhost:8080/"
        },
        "id": "tC69atPW3BPi",
        "outputId": "a4ef57cf-8773-47c2-fc58-df67e9d89408"
      },
      "execution_count": 23,
      "outputs": [
        {
          "output_type": "stream",
          "name": "stdout",
          "text": [
            "+---+----+-----+-------+--------------------+--------------------+--------------------+--------------------+--------------------+--------------------+--------------------+--------------------+--------------------+--------------------+--------------------+--------------------+---------+--------------------+\n",
            "|_c0|year|month|airport|           arr_del15|          carrier_ct|          weather_ct|              nas_ct|         security_ct|    late_aircraft_ct|        arr_diverted|       carrier_delay|       weather_delay|           nas_delay|      security_delay| late_aircraft_delay|arr_delay|            features|\n",
            "+---+----+-----+-------+--------------------+--------------------+--------------------+--------------------+--------------------+--------------------+--------------------+--------------------+--------------------+--------------------+--------------------+--------------------+---------+--------------------+\n",
            "|  0|2022|   11|    ABY| -0.3317854945166775|-0.37592621851215446|-0.17641855560199077| -0.2618669900411791|-0.20422931220321408|-0.30207013172410563|-0.21751042488763414|-0.31942066261662055| -0.2189204203790931| -0.2322328466643075|-0.16328325252122247| -0.2919771678360527|        1|[2022.0,11.0,-0.3...|\n",
            "|  1|2022|   11|    AEX|-0.31189725026354825| -0.3388439808754711| -0.2826017595416632|-0.24831928093303945|-0.20422931220321408| -0.2797315676646038|-0.21751042488763414| -0.2752186455797801| -0.2505171497646297|-0.21785303619524807|-0.16328325252122247|-0.28215884062730834|        1|[2022.0,11.0,-0.3...|\n",
            "|  2|2022|   11|    AGS|-0.33841490926772055|-0.37571671434471554| -0.2826017595416632|-0.28697009809449664|-0.20422931220321408|-0.28492658256216236|-0.21751042488763414| -0.3191723366782113| -0.2505171497646297|-0.24205320503342123|-0.16328325252122247|-0.26526218450063194|        1|[2022.0,11.0,-0.3...|\n",
            "|  3|2022|   11|    ALB|-0.24560310275311747| -0.2688695889508821| -0.2826017595416632|-0.23337695471082662|-0.20422931220321408| -0.1773897741826997|-0.21751042488763414|-0.23647979918794235| -0.2505171497646297|-0.22030812578752648|-0.16328325252122247| -0.0924139589885508|        1|[2022.0,11.0,-0.2...|\n",
            "|  4|2022|   11|    ATL| 0.41070895760014714| 0.22472222953514107| 0.04168748492274184|  0.4555638996413329|-0.20422931220321408|  0.4910354759698377|   0.090656235710359|  1.0342040276520168|-0.09496402048198788| 0.13357550258517975|-0.16328325252122247|  0.6725022305299061|        1|[2022.0,11.0,0.41...|\n",
            "+---+----+-----+-------+--------------------+--------------------+--------------------+--------------------+--------------------+--------------------+--------------------+--------------------+--------------------+--------------------+--------------------+--------------------+---------+--------------------+\n",
            "only showing top 5 rows\n",
            "\n"
          ]
        }
      ]
    },
    {
      "cell_type": "code",
      "source": [
        "# Split data into train and test sets\n",
        "training_data,test_data =transformed_data.randomSplit([0.7,0.3],\n",
        "                                                      seed=0)"
      ],
      "metadata": {
        "id": "78O2VyxG2qHx"
      },
      "execution_count": 24,
      "outputs": []
    },
    {
      "cell_type": "code",
      "source": [
        "training_data.groupby('arr_delay').count().show()"
      ],
      "metadata": {
        "colab": {
          "base_uri": "https://localhost:8080/"
        },
        "id": "b5nhO5oN4t8l",
        "outputId": "b16231ad-20d6-4b04-d7dd-30f0dc066dee"
      },
      "execution_count": 25,
      "outputs": [
        {
          "output_type": "stream",
          "name": "stdout",
          "text": [
            "+---------+-----+\n",
            "|arr_delay|count|\n",
            "+---------+-----+\n",
            "|        1|51784|\n",
            "|        0| 3122|\n",
            "+---------+-----+\n",
            "\n"
          ]
        }
      ]
    },
    {
      "cell_type": "code",
      "source": [
        "from pyspark.ml.classification import DecisionTreeClassifier"
      ],
      "metadata": {
        "id": "B2Oz6hx3LBM9"
      },
      "execution_count": 26,
      "outputs": []
    },
    {
      "cell_type": "code",
      "source": [
        "# Define Decision Tree Model\n",
        "dt=DecisionTreeClassifier(labelCol='arr_delay',featuresCol='features',maxDepth=5)"
      ],
      "metadata": {
        "id": "FyidQascLsTU"
      },
      "execution_count": 28,
      "outputs": []
    },
    {
      "cell_type": "code",
      "source": [
        "from pyspark.ml import Pipeline"
      ],
      "metadata": {
        "id": "y8185OIfTA_4"
      },
      "execution_count": 29,
      "outputs": []
    },
    {
      "cell_type": "code",
      "source": [
        "pipeline = Pipeline(stages=[dt])"
      ],
      "metadata": {
        "id": "WQJ_EFx7TJqL"
      },
      "execution_count": 30,
      "outputs": []
    },
    {
      "cell_type": "code",
      "source": [
        "# Fit model to training data\n",
        "model =pipeline.fit(training_data)"
      ],
      "metadata": {
        "id": "meP1MIKW3kFy"
      },
      "execution_count": 31,
      "outputs": []
    },
    {
      "cell_type": "code",
      "source": [
        "# Make predictions on test data\n",
        "predictions_test =model.transform(test_data)\n",
        "predictions_train =model.transform(training_data)"
      ],
      "metadata": {
        "id": "KFMvRZRd3nUA"
      },
      "execution_count": 35,
      "outputs": []
    },
    {
      "cell_type": "code",
      "source": [
        "predictions_test.show()"
      ],
      "metadata": {
        "colab": {
          "base_uri": "https://localhost:8080/"
        },
        "id": "LuLpHWpB5FaF",
        "outputId": "ff21aabb-4d5f-455c-e4e8-0304e70b258d"
      },
      "execution_count": 36,
      "outputs": [
        {
          "output_type": "stream",
          "name": "stdout",
          "text": [
            "+---+----+-----+-------+--------------------+--------------------+--------------------+--------------------+--------------------+--------------------+--------------------+--------------------+--------------------+--------------------+--------------------+--------------------+---------+--------------------+-------------+-----------+----------+\n",
            "|_c0|year|month|airport|           arr_del15|          carrier_ct|          weather_ct|              nas_ct|         security_ct|    late_aircraft_ct|        arr_diverted|       carrier_delay|       weather_delay|           nas_delay|      security_delay| late_aircraft_delay|arr_delay|            features|rawPrediction|probability|prediction|\n",
            "+---+----+-----+-------+--------------------+--------------------+--------------------+--------------------+--------------------+--------------------+--------------------+--------------------+--------------------+--------------------+--------------------+--------------------+---------+--------------------+-------------+-----------+----------+\n",
            "|  0|2022|   11|    ABY| -0.3317854945166775|-0.37592621851215446|-0.17641855560199077| -0.2618669900411791|-0.20422931220321408|-0.30207013172410563|-0.21751042488763414|-0.31942066261662055| -0.2189204203790931| -0.2322328466643075|-0.16328325252122247| -0.2919771678360527|        1|[2022.0,11.0,-0.3...| [0.0,2288.0]|  [0.0,1.0]|       1.0|\n",
            "|  4|2022|   11|    ATL| 0.41070895760014714| 0.22472222953514107| 0.04168748492274184|  0.4555638996413329|-0.20422931220321408|  0.4910354759698377|   0.090656235710359|  1.0342040276520168|-0.09496402048198788| 0.13357550258517975|-0.16328325252122247|  0.6725022305299061|        1|[2022.0,11.0,0.41...|[0.0,49496.0]|  [0.0,1.0]|       1.0|\n",
            "|  8|2022|   11|    AZO| -0.2986384207614621|-0.32920678917328217|-0.15489493318178688|-0.20966846377158227|-0.20422931220321408|-0.30207013172410563|-0.21751042488763414| -0.3012928691127478|0.014409273544869648|-0.19680941111857572|-0.16328325252122247| -0.2919771678360527|        1|[2022.0,11.0,-0.2...|[0.0,49496.0]|  [0.0,1.0]|       1.0|\n",
            "| 20|2022|   11|    CHA|  -0.292009006010419|-0.27054562229039314| -0.2826017595416632| -0.2277984862545338|-0.20422931220321408|-0.30207013172410563|-0.21751042488763414| -0.2615607189672732| -0.2505171497646297|-0.20943558616457914|-0.16328325252122247| -0.2919771678360527|        1|[2022.0,11.0,-0.2...|[0.0,49496.0]|  [0.0,1.0]|       1.0|\n",
            "| 21|2022|   11|    CHO|-0.18593836999372979| -0.2550423138999154|-0.14628548421370535|-0.12220604761756318|-0.20422931220321408|-0.14604651763409626|-0.21751042488763414| -0.2158687462999774|-0.22742723213673757| -0.1740121506188474|-0.16328325252122247| -0.1088539487334251|        1|[2022.0,11.0,-0.1...|[0.0,49496.0]|  [0.0,1.0]|       1.0|\n",
            "| 28|2022|   11|    CSG| -0.3052678355125052| -0.3084658765968321|-0.13911094340697072| -0.2515069771937782|-0.20422931220321408|-0.30207013172410563|   0.090656235710359|-0.12473312690379508|0.009548238254787091| -0.2266212133105282|-0.16328325252122247| -0.2919771678360527|        1|[2022.0,11.0,-0.3...|[0.0,49496.0]|  [0.0,1.0]|       1.0|\n",
            "| 29|2022|   11|    CVG| 0.35767363959180254|  0.0654990622815852|-0.07310516798501215|  0.6414464378456605|-0.20422931220321408| 0.33622403202259205|-0.21751042488763414| 0.18939918518386337| 0.15051826166718124| 0.30578250112928157|-0.16328325252122247| 0.43960237581085354|        1|[2022.0,11.0,0.35...|[0.0,49496.0]|  [0.0,1.0]|       1.0|\n",
            "| 30|2022|   11|    CWA|-0.25886193225520365|-0.26907909311832096| -0.2826017595416632|-0.16025917173013185|-0.20422931220321408|-0.27540238858330496|-0.21751042488763414| -0.2697554749347773| -0.2505171497646297| -0.1554236151344535|-0.16328325252122247| -0.2732538461821681|        1|[2022.0,11.0,-0.2...|[0.0,49496.0]|  [0.0,1.0]|       1.0|\n",
            "| 33|2022|   11|    DHN| -0.2986384207614621| -0.3608419184565545| 0.07756018895641498|-0.22361463491231423|-0.20422931220321408| -0.2918532690922404|-0.21751042488763414| -0.3132125141563902|-0.01961797348570...|-0.20522686114924465|-0.16328325252122247|-0.28900883635433927|        1|[2022.0,11.0,-0.2...|[0.0,49496.0]|  [0.0,1.0]|       1.0|\n",
            "| 36|2022|   11|    DTW|  0.5035207641147502|  0.3944206051606414| 0.14787068886241433|   0.673522631469344|-0.20422931220321408| 0.39094485561020914| 0.39882289630835216|  0.3346698591532548|-0.17031006747826752|  0.2735156093450507|-0.16328325252122247|  0.3895974070035275|        1|[2022.0,11.0,0.50...|[0.0,49496.0]|  [0.0,1.0]|       1.0|\n",
            "| 37|2022|   11|    EWR|-0.09975597823016978|-0.29254355987147657| 0.13065179092625123| 0.22465515175407064|-0.20422931220321408| -0.2250107440769867|-0.21751042488763414|  -0.259077459583181|-0.01354167937310...| 0.22406309041487074|-0.16328325252122247|-0.23306720458358646|        1|[2022.0,11.0,-0.0...|[0.0,49496.0]|  [0.0,1.0]|       1.0|\n",
            "| 39|2022|   11|    FSD|-0.33841490926772055|-0.37592621851215446| -0.2826017595416632| -0.2670469964648795|-0.20422931220321408|-0.30207013172410563|-0.21751042488763414|-0.31942066261662055| -0.2505171497646297|-0.23538939042580834|-0.16328325252122247| -0.2919771678360527|        1|[2022.0,11.0,-0.3...| [0.0,2288.0]|  [0.0,1.0]|       1.0|\n",
            "| 42|2022|   11|    GSO| -0.1793089552426867|-0.27117413479270985| -0.2826017595416632|-0.13933991501903387|-0.20422931220321408|-0.08405267318989719|-0.21751042488763414| -0.2645406302281838| -0.2505171497646297| -0.1554236151344535|-0.16328325252122247|-0.00564734644615...|        1|[2022.0,11.0,-0.1...|[0.0,49496.0]|  [0.0,1.0]|       1.0|\n",
            "| 49|2022|   11|    JAX|-0.21908544374894517| -0.3442910892288822| -0.2826017595416632|-0.10865833850942355|-0.20422931220321408|-0.15418537430693804|-0.21751042488763414| -0.2906148537611515| -0.2505171497646297|-0.11298563789649764|-0.16328325252122247|-0.15726058520444386|        1|[2022.0,11.0,-0.2...|[0.0,49496.0]|  [0.0,1.0]|       1.0|\n",
            "| 50|2022|   11|    JFK|   1.842662543825452|  0.9313797863065144|  0.7591415655962045|  3.1117118089018856|-0.20422931220321408|  1.2521051584621699|-0.21751042488763414|  0.9783306915099431|  0.5357553084062239|  2.7317617453849894|-0.16328325252122247|  1.2284935503739187|        1|[2022.0,11.0,1.84...|[0.0,49496.0]|  [0.0,1.0]|       1.0|\n",
            "| 53|2022|   11|    LGA|   4.341951904968692|  1.4195244964391267|   4.168483356956499|   8.890008974539734|  1.0532488185915982|  1.9258985906755177|   8.719322732454167|   2.033715929749112|   7.230616161672426|   9.504301749227366|  0.3260342713919912|  2.3644511751065527|        1|[2022.0,11.0,4.34...|[0.0,49496.0]|  [0.0,1.0]|       1.0|\n",
            "| 60|2022|   11|    MKE| -0.1793089552426867| -0.2257117304584709| -0.2826017595416632|-0.09172370212424898|-0.20422931220321408|-0.16301689963278762|-0.21751042488763414|0.007376272329907922| -0.2505171497646297|-0.12841762961939068|-0.16328325252122247|-0.12255394018748701|        1|[2022.0,11.0,-0.1...|[0.0,49496.0]|  [0.0,1.0]|       1.0|\n",
            "| 61|2022|   11|    MLU| -0.3251560797656344|-0.33423488919181554| -0.2826017595416632| -0.2867708670782005|-0.20422931220321408|-0.28475341539891036|   0.090656235710359|-0.29458806877569893| -0.2505171497646297|-0.24170247794881003|-0.16328325252122247| -0.2819305074364073|        1|[2022.0,11.0,-0.3...|[0.0,49496.0]|  [0.0,1.0]|       1.0|\n",
            "| 62|2022|   11|    MQT| -0.3251560797656344|-0.35497580176826554|-0.13911094340697072| -0.2670469964648795|-0.20422931220321408|-0.30207013172410563|-0.21751042488763414| -0.2940914168988805|-0.17152532630078815|-0.22311394246441613|-0.16328325252122247| -0.2919771678360527|        1|[2022.0,11.0,-0.3...|[0.0,49496.0]|  [0.0,1.0]|       1.0|\n",
            "| 65|2022|   11|    MYR|-0.27875017650833284|-0.33863447670803215| -0.2826017595416632|-0.21066461885306312|-0.20422931220321408|-0.22622291421975038|-0.21751042488763414|  -0.307252691634569| -0.2505171497646297|-0.19400359444168608|-0.16328325252122247|-0.16525224688597998|        1|[2022.0,11.0,-0.2...|[0.0,49496.0]|  [0.0,1.0]|       1.0|\n",
            "+---+----+-----+-------+--------------------+--------------------+--------------------+--------------------+--------------------+--------------------+--------------------+--------------------+--------------------+--------------------+--------------------+--------------------+---------+--------------------+-------------+-----------+----------+\n",
            "only showing top 20 rows\n",
            "\n"
          ]
        }
      ]
    },
    {
      "cell_type": "code",
      "source": [
        "predictions_train.show()"
      ],
      "metadata": {
        "colab": {
          "base_uri": "https://localhost:8080/"
        },
        "id": "NuedOWWs1aR0",
        "outputId": "3a234df2-0a66-42b4-b839-943a84ddb785"
      },
      "execution_count": 37,
      "outputs": [
        {
          "output_type": "stream",
          "name": "stdout",
          "text": [
            "+---+----+-----+-------+--------------------+--------------------+--------------------+--------------------+--------------------+--------------------+--------------------+--------------------+--------------------+--------------------+--------------------+--------------------+---------+--------------------+-------------+-----------+----------+\n",
            "|_c0|year|month|airport|           arr_del15|          carrier_ct|          weather_ct|              nas_ct|         security_ct|    late_aircraft_ct|        arr_diverted|       carrier_delay|       weather_delay|           nas_delay|      security_delay| late_aircraft_delay|arr_delay|            features|rawPrediction|probability|prediction|\n",
            "+---+----+-----+-------+--------------------+--------------------+--------------------+--------------------+--------------------+--------------------+--------------------+--------------------+--------------------+--------------------+--------------------+--------------------+---------+--------------------+-------------+-----------+----------+\n",
            "|  1|2022|   11|    AEX|-0.31189725026354825| -0.3388439808754711| -0.2826017595416632|-0.24831928093303945|-0.20422931220321408| -0.2797315676646038|-0.21751042488763414| -0.2752186455797801| -0.2505171497646297|-0.21785303619524807|-0.16328325252122247|-0.28215884062730834|        1|[2022.0,11.0,-0.3...|[0.0,49496.0]|  [0.0,1.0]|       1.0|\n",
            "|  2|2022|   11|    AGS|-0.33841490926772055|-0.37571671434471554| -0.2826017595416632|-0.28697009809449664|-0.20422931220321408|-0.28492658256216236|-0.21751042488763414| -0.3191723366782113| -0.2505171497646297|-0.24205320503342123|-0.16328325252122247|-0.26526218450063194|        1|[2022.0,11.0,-0.3...|[0.0,49496.0]|  [0.0,1.0]|       1.0|\n",
            "|  3|2022|   11|    ALB|-0.24560310275311747| -0.2688695889508821| -0.2826017595416632|-0.23337695471082662|-0.20422931220321408| -0.1773897741826997|-0.21751042488763414|-0.23647979918794235| -0.2505171497646297|-0.22030812578752648|-0.16328325252122247| -0.0924139589885508|        1|[2022.0,11.0,-0.2...|[0.0,49496.0]|  [0.0,1.0]|       1.0|\n",
            "|  5|2022|   11|    ATW| -0.1793089552426867| -0.2120939595749431|-0.13911094340697072|-0.01382437475244...|-0.20422931220321408| -0.2592978424008733|   0.090656235710359| -0.1850763299372346|-0.21284412626648988|-0.12526108585788984|-0.16328325252122247|-0.26183718663711647|        1|[2022.0,11.0,-0.1...|[0.0,49496.0]|  [0.0,1.0]|       1.0|\n",
            "|  6|2022|   11|    AUS|  -0.292009006010419| -0.2965241390528155| -0.2696875860895409|-0.23417387877601128|-0.20422931220321408|-0.27678772588932055|   0.090656235710359| -0.2516276814309045|-0.22985774978177884|-0.21118922158763515|-0.16328325252122247| -0.2497355275193618|        1|[2022.0,11.0,-0.2...|[0.0,49496.0]|  [0.0,1.0]|       1.0|\n",
            "|  7|2022|   11|    AVL| -0.2986384207614621| -0.3602134059542378| -0.2826017595416632|-0.22959156540119938|-0.20422931220321408|-0.24371279770819756|-0.21751042488763414|-0.30079621723592936| -0.2505171497646297|-0.21153994867224635|-0.16328325252122247| -0.1746139077129223|        1|[2022.0,11.0,-0.2...|[0.0,49496.0]|  [0.0,1.0]|       1.0|\n",
            "|  9|2022|   11|    BDL|-0.19256778474477285|-0.21649354709115978| -0.2826017595416632|-0.15926301664865097|-0.20422931220321408| -0.1465660191238521|-0.21751042488763414|-0.02440944778647175| -0.2505171497646297|-0.15822943181134314|-0.16328325252122247|-0.17666890643103159|        1|[2022.0,11.0,-0.1...|[0.0,49496.0]|  [0.0,1.0]|       1.0|\n",
            "| 10|2022|   11|    BGM| -0.3185266650145913|-0.34282456005680995| -0.2826017595416632|-0.23875619215082322|-0.20422931220321408|-0.30207013172410563|-0.21751042488763414| -0.3062593878809321| -0.2505171497646297|-0.21715158202602564|-0.16328325252122247| -0.2919771678360527|        1|[2022.0,11.0,-0.3...|[0.0,49496.0]|  [0.0,1.0]|       1.0|\n",
            "| 11|2022|   11|    BGR| -0.1527912962385144|-0.20957990956567638| -0.2826017595416632|-0.12101066151978614|-0.20422931220321408|-0.08162833290436984|-0.21751042488763414|-0.18433135212200696| -0.2505171497646297|-0.14735689218839576|-0.16328325252122247|-0.02596900043635052|        1|[2022.0,11.0,-0.1...|[0.0,49496.0]|  [0.0,1.0]|       1.0|\n",
            "| 12|2022|   11|    BHM|-0.24560310275311747|-0.32962579750815996| -0.2826017595416632|-0.16902533644716336|-0.20422931220321408| -0.1832774577332661|-0.21751042488763414|-0.13193457911766235| -0.2505171497646297|-0.17050487977273532|-0.16328325252122247|-0.19151056383959866|        1|[2022.0,11.0,-0.2...|[0.0,49496.0]|  [0.0,1.0]|       1.0|\n",
            "| 13|2022|   11|    BNA|-0.06660890447495439|-0.13499642595743183| -0.2826017595416632| 0.10073345961785225|-0.20422931220321408|-0.11089358349394987|-0.21751042488763414|  -0.141867616654031| -0.2505171497646297| 0.00766447920975701|-0.16328325252122247|-0.01500900727310099|        1|[2022.0,11.0,-0.0...|[0.0,49496.0]|  [0.0,1.0]|       1.0|\n",
            "| 14|2022|   11|    BOS| -0.3317854945166775|-0.35497580176826554| -0.2826017595416632| -0.2670469964648795|-0.20422931220321408|-0.30207013172410563|-0.21751042488763414| -0.3122192104027533| -0.2505171497646297|-0.23679229876425315|-0.16328325252122247| -0.2919771678360527|        1|[2022.0,11.0,-0.3...|[0.0,49496.0]|  [0.0,1.0]|       1.0|\n",
            "| 15|2022|   11|    BQK| -0.3251560797656344| -0.3608419184565545| -0.2826017595416632|-0.24154542637896964|-0.20422931220321408|-0.30207013172410563|-0.21751042488763414| -0.3032794766200215| -0.2505171497646297|-0.22136030704136012|-0.16328325252122247| -0.2919771678360527|        1|[2022.0,11.0,-0.3...|[0.0,49496.0]|  [0.0,1.0]|       1.0|\n",
            "| 16|2022|   11|    BTV|-0.16605012574060055|-0.22256916794688755| -0.2826017595416632|-0.11941681338941677|-0.20422931220321408|-0.10691073873915495|-0.21751042488763414|-0.10362542213901171| -0.2505171497646297|-0.15682652347289833|-0.16328325252122247|-0.11159394702423749|        1|[2022.0,11.0,-0.1...|[0.0,49496.0]|  [0.0,1.0]|       1.0|\n",
            "| 17|2022|   11|    BUF|-0.07986773397704054|-0.18381089697069303|0.002944964566374...|0.004704109763097805|-0.20422931220321408|-0.05599959274308083|-0.21751042488763414|-0.19798927873451386|  0.2477389674688324|-0.06107802937403925|-0.16328325252122247|-0.11113728064243542|        1|[2022.0,11.0,-0.0...|[0.0,49496.0]|  [0.0,1.0]|       1.0|\n",
            "| 18|2022|   11|    BWI|-0.19256778474477285| -0.3348634016941322| -0.2826017595416632|-0.00605436511689545|-0.20422931220321408| -0.1817189532639985|-0.21751042488763414| -0.2983129578518372| -0.2505171497646297|-0.10211309827355028|-0.16328325252122247|-0.19516389489401517|        1|[2022.0,11.0,-0.1...|[0.0,49496.0]|  [0.0,1.0]|       1.0|\n",
            "| 19|2022|   11|    CAE|-0.25223251750416054| -0.2655175222718599|-0.15489493318178688|-0.22620463812416444|-0.20422931220321408| -0.2191230605264203|-0.21751042488763414|-0.23424486574225942|-0.23107300860429947| -0.2017195903031326|-0.16328325252122247|-0.21891054674772248|        1|[2022.0,11.0,-0.2...|[0.0,49496.0]|  [0.0,1.0]|       1.0|\n",
            "| 22|2022|   11|    CHS|-0.09975597823016978| -0.2619559514253987| -0.2826017595416632| 0.10212807673192546|-0.20422931220321408|-0.09375003433200654|   0.090656235710359|-0.15602219514335633| -0.2505171497646297|-0.00706605834391...|-0.16328325252122247|-0.05222731738996919|        1|[2022.0,11.0,-0.0...|[0.0,49496.0]|  [0.0,1.0]|       1.0|\n",
            "| 23|2022|   11|    CID| -0.3185266650145913|-0.35497580176826554| -0.2826017595416632|-0.22720079320564532|-0.20422931220321408|-0.30207013172410563|   0.090656235710359| -0.3127158622795717| -0.2505171497646297|-0.22136030704136012|-0.16328325252122247| -0.2919771678360527|        1|[2022.0,11.0,-0.3...|[0.0,49496.0]|  [0.0,1.0]|       1.0|\n",
            "| 24|2022|   11|    CLE|-0.10638539298121286|-0.14337659265498742| -0.2826017595416632| 0.03598337932159667|-0.20422931220321408|-0.15158786685815875| 0.39882289630835216|-0.04154393753670767| -0.2505171497646297|  0.1697003923001339|-0.16328325252122247|-0.09492562408846215|        1|[2022.0,11.0,-0.1...|[0.0,49496.0]|  [0.0,1.0]|       1.0|\n",
            "+---+----+-----+-------+--------------------+--------------------+--------------------+--------------------+--------------------+--------------------+--------------------+--------------------+--------------------+--------------------+--------------------+--------------------+---------+--------------------+-------------+-----------+----------+\n",
            "only showing top 20 rows\n",
            "\n"
          ]
        }
      ]
    },
    {
      "cell_type": "code",
      "source": [
        "predictions_test.select('prediction').toPandas()"
      ],
      "metadata": {
        "colab": {
          "base_uri": "https://localhost:8080/",
          "height": 423
        },
        "id": "En2ileze5HW1",
        "outputId": "52f52ba3-e2ba-41c0-abf6-ea2b5fe9bf97"
      },
      "execution_count": 41,
      "outputs": [
        {
          "output_type": "execute_result",
          "data": {
            "text/plain": [
              "       prediction\n",
              "0             1.0\n",
              "1             1.0\n",
              "2             1.0\n",
              "3             1.0\n",
              "4             1.0\n",
              "...           ...\n",
              "23528         1.0\n",
              "23529         1.0\n",
              "23530         1.0\n",
              "23531         1.0\n",
              "23532         1.0\n",
              "\n",
              "[23533 rows x 1 columns]"
            ],
            "text/html": [
              "\n",
              "  <div id=\"df-c9a0ca98-cabb-46a5-b5df-23cb6cc29d11\">\n",
              "    <div class=\"colab-df-container\">\n",
              "      <div>\n",
              "<style scoped>\n",
              "    .dataframe tbody tr th:only-of-type {\n",
              "        vertical-align: middle;\n",
              "    }\n",
              "\n",
              "    .dataframe tbody tr th {\n",
              "        vertical-align: top;\n",
              "    }\n",
              "\n",
              "    .dataframe thead th {\n",
              "        text-align: right;\n",
              "    }\n",
              "</style>\n",
              "<table border=\"1\" class=\"dataframe\">\n",
              "  <thead>\n",
              "    <tr style=\"text-align: right;\">\n",
              "      <th></th>\n",
              "      <th>prediction</th>\n",
              "    </tr>\n",
              "  </thead>\n",
              "  <tbody>\n",
              "    <tr>\n",
              "      <th>0</th>\n",
              "      <td>1.0</td>\n",
              "    </tr>\n",
              "    <tr>\n",
              "      <th>1</th>\n",
              "      <td>1.0</td>\n",
              "    </tr>\n",
              "    <tr>\n",
              "      <th>2</th>\n",
              "      <td>1.0</td>\n",
              "    </tr>\n",
              "    <tr>\n",
              "      <th>3</th>\n",
              "      <td>1.0</td>\n",
              "    </tr>\n",
              "    <tr>\n",
              "      <th>4</th>\n",
              "      <td>1.0</td>\n",
              "    </tr>\n",
              "    <tr>\n",
              "      <th>...</th>\n",
              "      <td>...</td>\n",
              "    </tr>\n",
              "    <tr>\n",
              "      <th>23528</th>\n",
              "      <td>1.0</td>\n",
              "    </tr>\n",
              "    <tr>\n",
              "      <th>23529</th>\n",
              "      <td>1.0</td>\n",
              "    </tr>\n",
              "    <tr>\n",
              "      <th>23530</th>\n",
              "      <td>1.0</td>\n",
              "    </tr>\n",
              "    <tr>\n",
              "      <th>23531</th>\n",
              "      <td>1.0</td>\n",
              "    </tr>\n",
              "    <tr>\n",
              "      <th>23532</th>\n",
              "      <td>1.0</td>\n",
              "    </tr>\n",
              "  </tbody>\n",
              "</table>\n",
              "<p>23533 rows × 1 columns</p>\n",
              "</div>\n",
              "      <button class=\"colab-df-convert\" onclick=\"convertToInteractive('df-c9a0ca98-cabb-46a5-b5df-23cb6cc29d11')\"\n",
              "              title=\"Convert this dataframe to an interactive table.\"\n",
              "              style=\"display:none;\">\n",
              "        \n",
              "  <svg xmlns=\"http://www.w3.org/2000/svg\" height=\"24px\"viewBox=\"0 0 24 24\"\n",
              "       width=\"24px\">\n",
              "    <path d=\"M0 0h24v24H0V0z\" fill=\"none\"/>\n",
              "    <path d=\"M18.56 5.44l.94 2.06.94-2.06 2.06-.94-2.06-.94-.94-2.06-.94 2.06-2.06.94zm-11 1L8.5 8.5l.94-2.06 2.06-.94-2.06-.94L8.5 2.5l-.94 2.06-2.06.94zm10 10l.94 2.06.94-2.06 2.06-.94-2.06-.94-.94-2.06-.94 2.06-2.06.94z\"/><path d=\"M17.41 7.96l-1.37-1.37c-.4-.4-.92-.59-1.43-.59-.52 0-1.04.2-1.43.59L10.3 9.45l-7.72 7.72c-.78.78-.78 2.05 0 2.83L4 21.41c.39.39.9.59 1.41.59.51 0 1.02-.2 1.41-.59l7.78-7.78 2.81-2.81c.8-.78.8-2.07 0-2.86zM5.41 20L4 18.59l7.72-7.72 1.47 1.35L5.41 20z\"/>\n",
              "  </svg>\n",
              "      </button>\n",
              "      \n",
              "  <style>\n",
              "    .colab-df-container {\n",
              "      display:flex;\n",
              "      flex-wrap:wrap;\n",
              "      gap: 12px;\n",
              "    }\n",
              "\n",
              "    .colab-df-convert {\n",
              "      background-color: #E8F0FE;\n",
              "      border: none;\n",
              "      border-radius: 50%;\n",
              "      cursor: pointer;\n",
              "      display: none;\n",
              "      fill: #1967D2;\n",
              "      height: 32px;\n",
              "      padding: 0 0 0 0;\n",
              "      width: 32px;\n",
              "    }\n",
              "\n",
              "    .colab-df-convert:hover {\n",
              "      background-color: #E2EBFA;\n",
              "      box-shadow: 0px 1px 2px rgba(60, 64, 67, 0.3), 0px 1px 3px 1px rgba(60, 64, 67, 0.15);\n",
              "      fill: #174EA6;\n",
              "    }\n",
              "\n",
              "    [theme=dark] .colab-df-convert {\n",
              "      background-color: #3B4455;\n",
              "      fill: #D2E3FC;\n",
              "    }\n",
              "\n",
              "    [theme=dark] .colab-df-convert:hover {\n",
              "      background-color: #434B5C;\n",
              "      box-shadow: 0px 1px 3px 1px rgba(0, 0, 0, 0.15);\n",
              "      filter: drop-shadow(0px 1px 2px rgba(0, 0, 0, 0.3));\n",
              "      fill: #FFFFFF;\n",
              "    }\n",
              "  </style>\n",
              "\n",
              "      <script>\n",
              "        const buttonEl =\n",
              "          document.querySelector('#df-c9a0ca98-cabb-46a5-b5df-23cb6cc29d11 button.colab-df-convert');\n",
              "        buttonEl.style.display =\n",
              "          google.colab.kernel.accessAllowed ? 'block' : 'none';\n",
              "\n",
              "        async function convertToInteractive(key) {\n",
              "          const element = document.querySelector('#df-c9a0ca98-cabb-46a5-b5df-23cb6cc29d11');\n",
              "          const dataTable =\n",
              "            await google.colab.kernel.invokeFunction('convertToInteractive',\n",
              "                                                     [key], {});\n",
              "          if (!dataTable) return;\n",
              "\n",
              "          const docLinkHtml = 'Like what you see? Visit the ' +\n",
              "            '<a target=\"_blank\" href=https://colab.research.google.com/notebooks/data_table.ipynb>data table notebook</a>'\n",
              "            + ' to learn more about interactive tables.';\n",
              "          element.innerHTML = '';\n",
              "          dataTable['output_type'] = 'display_data';\n",
              "          await google.colab.output.renderOutput(dataTable, element);\n",
              "          const docLink = document.createElement('div');\n",
              "          docLink.innerHTML = docLinkHtml;\n",
              "          element.appendChild(docLink);\n",
              "        }\n",
              "      </script>\n",
              "    </div>\n",
              "  </div>\n",
              "  "
            ]
          },
          "metadata": {},
          "execution_count": 41
        }
      ]
    },
    {
      "cell_type": "code",
      "source": [
        "pred_train=predictions_train.select('prediction').toPandas()\n",
        "pred_test=predictions_test.select('prediction').toPandas()"
      ],
      "metadata": {
        "id": "J4qkz49I5KO9"
      },
      "execution_count": 42,
      "outputs": []
    },
    {
      "cell_type": "code",
      "source": [
        "actual_train= training_data.select('arr_delay').toPandas()\n",
        "actual_test= test_data.select('arr_delay').toPandas()"
      ],
      "metadata": {
        "id": "8oqoFOS45SYW"
      },
      "execution_count": 43,
      "outputs": []
    },
    {
      "cell_type": "code",
      "source": [
        "from sklearn.metrics import accuracy_score\n",
        "\n"
      ],
      "metadata": {
        "id": "p_RyfUIg5lA9"
      },
      "execution_count": 44,
      "outputs": []
    },
    {
      "cell_type": "code",
      "source": [
        "# Evaluate model performance\n",
        "Accuracy_train=accuracy_score(actual_train, pred_train)\n",
        "Accuracy_test=accuracy_score(actual_test, pred_test)\n"
      ],
      "metadata": {
        "id": "g_Mv5MfS5dYW"
      },
      "execution_count": 45,
      "outputs": []
    },
    {
      "cell_type": "code",
      "source": [
        "print(\"Accuracy for test:\", Accuracy_test)\n",
        "print(\"----------------------------------\")\n",
        "print(\"Accuracy for train:\", Accuracy_train)\n"
      ],
      "metadata": {
        "colab": {
          "base_uri": "https://localhost:8080/"
        },
        "id": "8Vyf67zq59W4",
        "outputId": "2fa2ae4a-b08c-4781-e294-463742f3f288"
      },
      "execution_count": 46,
      "outputs": [
        {
          "output_type": "stream",
          "name": "stdout",
          "text": [
            "Accuracy for test: 1.0\n",
            "----------------------------------\n",
            "Accuracy for train: 1.0\n"
          ]
        }
      ]
    },
    {
      "cell_type": "code",
      "source": [],
      "metadata": {
        "id": "BDPak3Zb2PBJ"
      },
      "execution_count": 46,
      "outputs": []
    }
  ]
}